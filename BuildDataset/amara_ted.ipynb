{
 "cells": [
  {
   "cell_type": "markdown",
   "metadata": {},
   "source": [
    "# Get data from amara.org"
   ]
  },
  {
   "cell_type": "markdown",
   "metadata": {},
   "source": [
    "Approach:\n",
    "* start from the links with the list of TEDx, TED and TED-ED talks\n",
    "* get the link of each individual videos\n",
    "  * explore not only the first page\n",
    "* get the link of the english subtitles\n",
    "* get the link of the subtitle file (txt)\n",
    "* get the description from the html of the page"
   ]
  },
  {
   "cell_type": "markdown",
   "metadata": {},
   "source": [
    "## Setup"
   ]
  },
  {
   "cell_type": "code",
   "execution_count": 1,
   "metadata": {},
   "outputs": [],
   "source": [
    "import sys\n",
    "sys.path.append(\"../\")\n",
    "sys.path.append(\"../../\") # to import tools\n",
    "import os\n",
    "import requests\n",
    "from bs4 import BeautifulSoup\n",
    "from tools import progress_bar, make_name, name_to_url, file_exists\n",
    "import json\n",
    "from datetime import datetime\n",
    "import re\n",
    "import subprocess\n",
    "import pandas as pd\n",
    "import time\n",
    "import numpy as np"
   ]
  },
  {
   "cell_type": "markdown",
   "metadata": {},
   "source": [
    "## Collect video and transcription URLs and "
   ]
  },
  {
   "cell_type": "code",
   "execution_count": 2,
   "metadata": {},
   "outputs": [],
   "source": [
    "amara = [ # list of video locations\n",
    "    r\"https://amara.org/en/teams/ted/videos/?q=&project=tedtalks&lang-mode=%2B&lang=en&sort=-time\",  # TED -> last page missing\n",
    "    r\"https://amara.org/en/teams/ted/videos/?q=&project=tedxtalks&lang-mode=%2B&lang=en&sort=-time\", # TEDx -> some video failed\n",
    "    r\"https://amara.org/en/teams/ted/videos/?q=&project=ted-ed&lang-mode=%2B&lang=en&sort=-time\",    # TED-ED \n",
    "    r\"https://amara.org/en/teams/ted/videos/?q=&project=otp-resources&lang-mode=%2B&lang=en&sort=-time#\",  # TED-Translators -> done, there are duplicates\n",
    "    r\"https://amara.org/en/teams/ted/videos/?q=&project=ted-series&lang-mode=%2B&lang=en&sort=-time\" # TED-series -> done\n",
    "]\n",
    "n_pages = [ # number of pages to explore\n",
    "    218,\n",
    "    932,\n",
    "    88,\n",
    "    3,\n",
    "    4\n",
    "]\n",
    "starting_pages = [\n",
    "    0,\n",
    "    0,\n",
    "    0,\n",
    "    0,\n",
    "    0\n",
    "]\n",
    "folders = [\n",
    "    \"TED\",\n",
    "    \"TEDx\",\n",
    "    \"TED-ED\",\n",
    "    \"TED-Translator\",\n",
    "    \"TED-Series\"\n",
    "]\n",
    "json_file = \"data_urls.json\"\n",
    "fail = \"fail.json\"\n",
    "fail_dict = {}\n",
    "site = \"https://amara.org{}\"\n",
    "page_var = \"&page={}\" # append this to the link to get a specific page\n",
    "# videos_per_page = 16  # how many videos each page -> used to estimate the total number of videos"
   ]
  },
  {
   "cell_type": "code",
   "execution_count": 3,
   "metadata": {},
   "outputs": [],
   "source": [
    "def init_fail():\n",
    "    \"\"\"Json for failed requests\"\"\"\n",
    "    d = {}\n",
    "    try:\n",
    "        with open(fail, \"rt\") as f:\n",
    "            d = json.load(f)\n",
    "    except FileNotFoundError:\n",
    "        pass\n",
    "    return d\n",
    "\n",
    "def save_fail(fail_dict):\n",
    "    \"\"\"\n",
    "    Save the dictionary of failed requests\n",
    "    \n",
    "    Key: url\n",
    "    Values: [0 list of videos, 1 single video, folder]\n",
    "    \"\"\"\n",
    "    with open(fail, \"wt\") as f:\n",
    "        json.dump(fail_dict, f)\n",
    "\n",
    "def retry_fail(fail_dict):\n",
    "    \"\"\"\n",
    "    Try again on failed requests\n",
    "    \"\"\"\n",
    "    url = \"\"\n",
    "    folder = \"\"\n",
    "    type_ = -1\n",
    "    data_dicts = {} # folder -> json dict\n",
    "    l = len(fail_dict)\n",
    "    count = 0\n",
    "    try:\n",
    "        progress_bar(count, \"Retry\", tot=l)\n",
    "        while len(fail_dict) != 0:\n",
    "            url, (type_, folder) = fail_dict.popitem()\n",
    "            if folder not in data_dicts:\n",
    "                with open(f\"{folder}/{json_file}\", \"rt\") as f:\n",
    "                    data_dicts[folder] = json.load(f)\n",
    "            if type_ == 0:\n",
    "                videos = get_videos(requests.get(url), folder)\n",
    "                for video in videos:\n",
    "                    try:\n",
    "                        r = requests.get(video)\n",
    "                        dict_data[r.url] = get_data(r, folder)\n",
    "                    except requests.ConnectionError:\n",
    "                        fail_dict[url] = [type_, folder]\n",
    "            elif type_ == 1:\n",
    "                try:\n",
    "                    r = requests.get(url)\n",
    "                    data_dicts[folder][r.url] = get_data(r, folder)\n",
    "                except requests.ConnectionError:\n",
    "                    l += 1\n",
    "                    fail_dict[url] = [type_, folder]\n",
    "            count += 1\n",
    "            progress_bar(count, \"Retry\", tot=l)\n",
    "    finally:\n",
    "        if url != \"\":\n",
    "            fail_dict[url] = [type_, folder]\n",
    "        save_fail(fail_dict)\n",
    "    return fail_dict"
   ]
  },
  {
   "cell_type": "code",
   "execution_count": 31,
   "metadata": {
    "jupyter": {
     "source_hidden": true
    }
   },
   "outputs": [],
   "source": [
    "def get_videos(r, folder = \"\"):\n",
    "    \"\"\"\n",
    "    Return the list of video URLs (still on amara)\n",
    "    \n",
    "    Args:\n",
    "        r: request from the amara page with the list of videos\n",
    "    Returns:\n",
    "        list of URLs to the videos from the page\n",
    "    \"\"\"\n",
    "    videos = []    \n",
    "    if r.ok:\n",
    "        # print(\"--Request OK\")\n",
    "        html = BeautifulSoup(r.text) # tree structure of the html page\n",
    "        \n",
    "        # find the element <ul class=\"videos listing group\"> -> it contains the list of videos\n",
    "        html = html.find_all(\"ul\", attrs={\"class\":\"videos listing group\"})    \n",
    "        \n",
    "        # find the link to the videos        \n",
    "        if len(html) != 0: # the result is not empty\n",
    "            # print(\"--Got table of videos\")\n",
    "            html = html[0] # assume only one result\n",
    "            link = html.find_all(\"a\", attrs={\"class\":\"\"}) # find all the links to the videos, some duplicates        \n",
    "            # print(\"--Got\", len(link), \"links\")\n",
    "            videos = list(set([site.format(i.attrs[\"href\"]) for i in link]))\n",
    "    else:\n",
    "        print(\"--Request NOT OK\")\n",
    "        fail_dict[r.url] = [0, folder]\n",
    "    return videos"
   ]
  },
  {
   "cell_type": "code",
   "execution_count": 32,
   "metadata": {},
   "outputs": [],
   "source": [
    "def find_video_link(r):\n",
    "    \"\"\"\n",
    "    Find the link where to download the information\n",
    "    \"\"\"\n",
    "    url = \"\"\n",
    "    if r.ok:\n",
    "        html = BeautifulSoup(r.text)\n",
    "        langs = html.find_all(\"ul\", attrs={\"id\": \"subtitles-menu\"})\n",
    "        if len(langs) != 0:   # if there is some results\n",
    "            langs = langs[0]  # take the list of rows\n",
    "            langs = langs.find_all(\"a\", text= \" English [en]\", limit=1) # English link\n",
    "            if len(langs) != 0:\n",
    "                url = site.format(langs[0].attrs[\"href\"])\n",
    "    return url\n",
    "\n",
    "def find_transcript(urls, format = \".srt\"):\n",
    "    trans = \"\"\n",
    "    i = 0\n",
    "    while i < len(urls) and trans == \"\":\n",
    "        if urls[i].strip().endswith(format):\n",
    "            trans = site.format(urls[i])\n",
    "        i += 1\n",
    "    return trans\n",
    "\n",
    "def get_data(r, folder=\"\"):\n",
    "    \"\"\"\n",
    "    Return the title, the description, the URL to the transcript and the URL to the video\n",
    "    \n",
    "    Args:\n",
    "        r: request to the amara page of a single video\n",
    "    Returns:\n",
    "        Tuple of strings with (title, description, URL transcript, URL video)\n",
    "    \"\"\"\n",
    "    url = find_video_link(r)\n",
    "    video_url = r.url\n",
    "    title = \"\"\n",
    "    descr = \"\"\n",
    "    video = \"\"\n",
    "    trans = \"\"\n",
    "    if url != \"\":\n",
    "        r = requests.get(url)\n",
    "        if r.ok: \n",
    "            html = BeautifulSoup(r.text)\n",
    "            meta = html.find_all(attrs={\"class\":\"metadata\"}) # 0: title, 1: description, (2: speaker)\n",
    "            # title\n",
    "            try:\n",
    "                title = meta[0].get_text().strip().split(\"\\n\", 2)[-1].strip() # Text include \"Title: \" -> strip, split on space, take last (actual title) and strip\n",
    "            except IndexError:\n",
    "                pass\n",
    "            # description\n",
    "            try:\n",
    "                descr = meta[1].get_text().strip().split(\"\\n\", 2)[-1].strip() # Text include \"Title: \" -> strip, split on space, take last (actual title) and strip\n",
    "            except IndexError:\n",
    "                pass\n",
    "            # video\n",
    "            div = html.find(\"div\", attrs={\"class\":\"modal-body\"})\n",
    "            if div is not None:\n",
    "                try:\n",
    "                    div = BeautifulSoup(div.find_all(\"pre\")[-1].get_text().strip()) # ther is a <div> with the URL of the video but it is as text\n",
    "                    div = div.find(\"div\")\n",
    "                    if div is not None:\n",
    "                        video = div.attrs[\"data-url\"]\n",
    "                except IndexError:\n",
    "                    pass\n",
    "            # transcript\n",
    "            div = html.find(\"div\", attrs={\"class\":\"sort_button action\"})\n",
    "            if div is not None:\n",
    "                urls = div.find_all(\"a\")\n",
    "                urls = [i.attrs[\"href\"] for i in urls]\n",
    "                trans = find_transcript(urls)\n",
    "                if trans == \"\":\n",
    "                    trans = find_transcript(urls, \".vtt\")\n",
    "                    if trans == \"\":\n",
    "                        trans = find_transcript(urls, \".txt\")                \n",
    "        else:            \n",
    "            fail_dict[video_url] = [1, folder]\n",
    "    else:\n",
    "        fail_dict[video_url] = [1, folder]\n",
    "    return (title, descr, video, trans)"
   ]
  },
  {
   "cell_type": "code",
   "execution_count": 35,
   "metadata": {},
   "outputs": [],
   "source": [
    "fail_dict = init_fail()\n",
    "for i, (source, folder) in enumerate(zip(amara, folders)):\n",
    "    dict_data = {}\n",
    "    print(\"Source:\", source)\n",
    "    try:\n",
    "        # check previous data\n",
    "        try:\n",
    "            with open(folder + \"/\" + json_file, \"r\") as f:\n",
    "                dict_data = json.load(f)\n",
    "        except json.JSONDecodeError:\n",
    "            pass\n",
    "        except FileNotFoundError:\n",
    "            pass\n",
    "        # get new data\n",
    "        print(f\"--starting job at {datetime.now()}\")\n",
    "        \n",
    "        for page in range(starting_pages[i], n_pages[i] + 1):\n",
    "            try: \n",
    "                r = requests.get(source + page_var.format(page))\n",
    "                videos = get_videos(r, folder)\n",
    "                for video in videos:\n",
    "                    try:\n",
    "                        r = requests.get(video)\n",
    "                    except requests.ConnectionError:\n",
    "                        fail_dict[video] = [1, folder]\n",
    "                    dict_data[r.url] = get_data(r, folder)\n",
    "                    print(f\"----video at {datetime.now()}\")                \n",
    "                progress_bar(page, f\"Source {folder}\", tot=n_pages[i])\n",
    "            except requests.ConnectionError:\n",
    "                print(\"CONNECTION ERROR: skip\")\n",
    "        print(\"--done at {datetime.now()}\")\n",
    "    finally:\n",
    "        with open(folder + \"/\" + json_file, \"w\") as f:\n",
    "            json.dump(dict_data, f)\n",
    "save_fail(fail_dict)"
   ]
  },
  {
   "cell_type": "code",
   "execution_count": 34,
   "metadata": {
    "collapsed": true,
    "jupyter": {
     "outputs_hidden": true
    }
   },
   "outputs": [
    {
     "name": "stdout",
     "output_type": "stream",
     "text": [
      "Retry: [--------------------------------------------------] 0.46% - 7/1527"
     ]
    },
    {
     "ename": "KeyboardInterrupt",
     "evalue": "",
     "output_type": "error",
     "traceback": [
      "\u001b[0;31m---------------------------------------------------------------------------\u001b[0m",
      "\u001b[0;31mKeyboardInterrupt\u001b[0m                         Traceback (most recent call last)",
      "\u001b[0;32m<ipython-input-34-98d013f38b3b>\u001b[0m in \u001b[0;36m<module>\u001b[0;34m\u001b[0m\n\u001b[1;32m      1\u001b[0m \u001b[0;31m# doesn't work properly\u001b[0m\u001b[0;34m\u001b[0m\u001b[0;34m\u001b[0m\u001b[0;34m\u001b[0m\u001b[0m\n\u001b[1;32m      2\u001b[0m \u001b[0;32mwhile\u001b[0m \u001b[0mlen\u001b[0m\u001b[0;34m(\u001b[0m\u001b[0mfail_dict\u001b[0m\u001b[0;34m)\u001b[0m \u001b[0;34m!=\u001b[0m \u001b[0;36m0\u001b[0m\u001b[0;34m:\u001b[0m\u001b[0;34m\u001b[0m\u001b[0;34m\u001b[0m\u001b[0m\n\u001b[0;32m----> 3\u001b[0;31m     \u001b[0mretry_fail\u001b[0m\u001b[0;34m(\u001b[0m\u001b[0mfail_dict\u001b[0m\u001b[0;34m)\u001b[0m\u001b[0;34m\u001b[0m\u001b[0;34m\u001b[0m\u001b[0m\n\u001b[0m",
      "\u001b[0;32m<ipython-input-30-20c189c2137c>\u001b[0m in \u001b[0;36mretry_fail\u001b[0;34m(fail_dict)\u001b[0m\n\u001b[1;32m     46\u001b[0m             \u001b[0;32melif\u001b[0m \u001b[0mtype_\u001b[0m \u001b[0;34m==\u001b[0m \u001b[0;36m1\u001b[0m\u001b[0;34m:\u001b[0m\u001b[0;34m\u001b[0m\u001b[0;34m\u001b[0m\u001b[0m\n\u001b[1;32m     47\u001b[0m                 \u001b[0;32mtry\u001b[0m\u001b[0;34m:\u001b[0m\u001b[0;34m\u001b[0m\u001b[0;34m\u001b[0m\u001b[0m\n\u001b[0;32m---> 48\u001b[0;31m                     \u001b[0mr\u001b[0m \u001b[0;34m=\u001b[0m \u001b[0mrequests\u001b[0m\u001b[0;34m.\u001b[0m\u001b[0mget\u001b[0m\u001b[0;34m(\u001b[0m\u001b[0murl\u001b[0m\u001b[0;34m)\u001b[0m\u001b[0;34m\u001b[0m\u001b[0;34m\u001b[0m\u001b[0m\n\u001b[0m\u001b[1;32m     49\u001b[0m                     \u001b[0mdata_dicts\u001b[0m\u001b[0;34m[\u001b[0m\u001b[0mfolder\u001b[0m\u001b[0;34m]\u001b[0m\u001b[0;34m[\u001b[0m\u001b[0mr\u001b[0m\u001b[0;34m.\u001b[0m\u001b[0murl\u001b[0m\u001b[0;34m]\u001b[0m \u001b[0;34m=\u001b[0m \u001b[0mget_data\u001b[0m\u001b[0;34m(\u001b[0m\u001b[0mr\u001b[0m\u001b[0;34m,\u001b[0m \u001b[0mfolder\u001b[0m\u001b[0;34m)\u001b[0m\u001b[0;34m\u001b[0m\u001b[0;34m\u001b[0m\u001b[0m\n\u001b[1;32m     50\u001b[0m                 \u001b[0;32mexcept\u001b[0m \u001b[0mrequests\u001b[0m\u001b[0;34m.\u001b[0m\u001b[0mConnectionError\u001b[0m\u001b[0;34m:\u001b[0m\u001b[0;34m\u001b[0m\u001b[0;34m\u001b[0m\u001b[0m\n",
      "\u001b[0;32m~/anaconda3/envs/thesis/lib/python3.8/site-packages/requests/api.py\u001b[0m in \u001b[0;36mget\u001b[0;34m(url, params, **kwargs)\u001b[0m\n\u001b[1;32m     74\u001b[0m \u001b[0;34m\u001b[0m\u001b[0m\n\u001b[1;32m     75\u001b[0m     \u001b[0mkwargs\u001b[0m\u001b[0;34m.\u001b[0m\u001b[0msetdefault\u001b[0m\u001b[0;34m(\u001b[0m\u001b[0;34m'allow_redirects'\u001b[0m\u001b[0;34m,\u001b[0m \u001b[0;32mTrue\u001b[0m\u001b[0;34m)\u001b[0m\u001b[0;34m\u001b[0m\u001b[0;34m\u001b[0m\u001b[0m\n\u001b[0;32m---> 76\u001b[0;31m     \u001b[0;32mreturn\u001b[0m \u001b[0mrequest\u001b[0m\u001b[0;34m(\u001b[0m\u001b[0;34m'get'\u001b[0m\u001b[0;34m,\u001b[0m \u001b[0murl\u001b[0m\u001b[0;34m,\u001b[0m \u001b[0mparams\u001b[0m\u001b[0;34m=\u001b[0m\u001b[0mparams\u001b[0m\u001b[0;34m,\u001b[0m \u001b[0;34m**\u001b[0m\u001b[0mkwargs\u001b[0m\u001b[0;34m)\u001b[0m\u001b[0;34m\u001b[0m\u001b[0;34m\u001b[0m\u001b[0m\n\u001b[0m\u001b[1;32m     77\u001b[0m \u001b[0;34m\u001b[0m\u001b[0m\n\u001b[1;32m     78\u001b[0m \u001b[0;34m\u001b[0m\u001b[0m\n",
      "\u001b[0;32m~/anaconda3/envs/thesis/lib/python3.8/site-packages/requests/api.py\u001b[0m in \u001b[0;36mrequest\u001b[0;34m(method, url, **kwargs)\u001b[0m\n\u001b[1;32m     59\u001b[0m     \u001b[0;31m# cases, and look like a memory leak in others.\u001b[0m\u001b[0;34m\u001b[0m\u001b[0;34m\u001b[0m\u001b[0;34m\u001b[0m\u001b[0m\n\u001b[1;32m     60\u001b[0m     \u001b[0;32mwith\u001b[0m \u001b[0msessions\u001b[0m\u001b[0;34m.\u001b[0m\u001b[0mSession\u001b[0m\u001b[0;34m(\u001b[0m\u001b[0;34m)\u001b[0m \u001b[0;32mas\u001b[0m \u001b[0msession\u001b[0m\u001b[0;34m:\u001b[0m\u001b[0;34m\u001b[0m\u001b[0;34m\u001b[0m\u001b[0m\n\u001b[0;32m---> 61\u001b[0;31m         \u001b[0;32mreturn\u001b[0m \u001b[0msession\u001b[0m\u001b[0;34m.\u001b[0m\u001b[0mrequest\u001b[0m\u001b[0;34m(\u001b[0m\u001b[0mmethod\u001b[0m\u001b[0;34m=\u001b[0m\u001b[0mmethod\u001b[0m\u001b[0;34m,\u001b[0m \u001b[0murl\u001b[0m\u001b[0;34m=\u001b[0m\u001b[0murl\u001b[0m\u001b[0;34m,\u001b[0m \u001b[0;34m**\u001b[0m\u001b[0mkwargs\u001b[0m\u001b[0;34m)\u001b[0m\u001b[0;34m\u001b[0m\u001b[0;34m\u001b[0m\u001b[0m\n\u001b[0m\u001b[1;32m     62\u001b[0m \u001b[0;34m\u001b[0m\u001b[0m\n\u001b[1;32m     63\u001b[0m \u001b[0;34m\u001b[0m\u001b[0m\n",
      "\u001b[0;32m~/anaconda3/envs/thesis/lib/python3.8/site-packages/requests/sessions.py\u001b[0m in \u001b[0;36mrequest\u001b[0;34m(self, method, url, params, data, headers, cookies, files, auth, timeout, allow_redirects, proxies, hooks, stream, verify, cert, json)\u001b[0m\n\u001b[1;32m    540\u001b[0m         }\n\u001b[1;32m    541\u001b[0m         \u001b[0msend_kwargs\u001b[0m\u001b[0;34m.\u001b[0m\u001b[0mupdate\u001b[0m\u001b[0;34m(\u001b[0m\u001b[0msettings\u001b[0m\u001b[0;34m)\u001b[0m\u001b[0;34m\u001b[0m\u001b[0;34m\u001b[0m\u001b[0m\n\u001b[0;32m--> 542\u001b[0;31m         \u001b[0mresp\u001b[0m \u001b[0;34m=\u001b[0m \u001b[0mself\u001b[0m\u001b[0;34m.\u001b[0m\u001b[0msend\u001b[0m\u001b[0;34m(\u001b[0m\u001b[0mprep\u001b[0m\u001b[0;34m,\u001b[0m \u001b[0;34m**\u001b[0m\u001b[0msend_kwargs\u001b[0m\u001b[0;34m)\u001b[0m\u001b[0;34m\u001b[0m\u001b[0;34m\u001b[0m\u001b[0m\n\u001b[0m\u001b[1;32m    543\u001b[0m \u001b[0;34m\u001b[0m\u001b[0m\n\u001b[1;32m    544\u001b[0m         \u001b[0;32mreturn\u001b[0m \u001b[0mresp\u001b[0m\u001b[0;34m\u001b[0m\u001b[0;34m\u001b[0m\u001b[0m\n",
      "\u001b[0;32m~/anaconda3/envs/thesis/lib/python3.8/site-packages/requests/sessions.py\u001b[0m in \u001b[0;36msend\u001b[0;34m(self, request, **kwargs)\u001b[0m\n\u001b[1;32m    695\u001b[0m \u001b[0;34m\u001b[0m\u001b[0m\n\u001b[1;32m    696\u001b[0m         \u001b[0;32mif\u001b[0m \u001b[0;32mnot\u001b[0m \u001b[0mstream\u001b[0m\u001b[0;34m:\u001b[0m\u001b[0;34m\u001b[0m\u001b[0;34m\u001b[0m\u001b[0m\n\u001b[0;32m--> 697\u001b[0;31m             \u001b[0mr\u001b[0m\u001b[0;34m.\u001b[0m\u001b[0mcontent\u001b[0m\u001b[0;34m\u001b[0m\u001b[0;34m\u001b[0m\u001b[0m\n\u001b[0m\u001b[1;32m    698\u001b[0m \u001b[0;34m\u001b[0m\u001b[0m\n\u001b[1;32m    699\u001b[0m         \u001b[0;32mreturn\u001b[0m \u001b[0mr\u001b[0m\u001b[0;34m\u001b[0m\u001b[0;34m\u001b[0m\u001b[0m\n",
      "\u001b[0;32m~/anaconda3/envs/thesis/lib/python3.8/site-packages/requests/models.py\u001b[0m in \u001b[0;36mcontent\u001b[0;34m(self)\u001b[0m\n\u001b[1;32m    829\u001b[0m                 \u001b[0mself\u001b[0m\u001b[0;34m.\u001b[0m\u001b[0m_content\u001b[0m \u001b[0;34m=\u001b[0m \u001b[0;32mNone\u001b[0m\u001b[0;34m\u001b[0m\u001b[0;34m\u001b[0m\u001b[0m\n\u001b[1;32m    830\u001b[0m             \u001b[0;32melse\u001b[0m\u001b[0;34m:\u001b[0m\u001b[0;34m\u001b[0m\u001b[0;34m\u001b[0m\u001b[0m\n\u001b[0;32m--> 831\u001b[0;31m                 \u001b[0mself\u001b[0m\u001b[0;34m.\u001b[0m\u001b[0m_content\u001b[0m \u001b[0;34m=\u001b[0m \u001b[0;34mb''\u001b[0m\u001b[0;34m.\u001b[0m\u001b[0mjoin\u001b[0m\u001b[0;34m(\u001b[0m\u001b[0mself\u001b[0m\u001b[0;34m.\u001b[0m\u001b[0miter_content\u001b[0m\u001b[0;34m(\u001b[0m\u001b[0mCONTENT_CHUNK_SIZE\u001b[0m\u001b[0;34m)\u001b[0m\u001b[0;34m)\u001b[0m \u001b[0;32mor\u001b[0m \u001b[0;34mb''\u001b[0m\u001b[0;34m\u001b[0m\u001b[0;34m\u001b[0m\u001b[0m\n\u001b[0m\u001b[1;32m    832\u001b[0m \u001b[0;34m\u001b[0m\u001b[0m\n\u001b[1;32m    833\u001b[0m         \u001b[0mself\u001b[0m\u001b[0;34m.\u001b[0m\u001b[0m_content_consumed\u001b[0m \u001b[0;34m=\u001b[0m \u001b[0;32mTrue\u001b[0m\u001b[0;34m\u001b[0m\u001b[0;34m\u001b[0m\u001b[0m\n",
      "\u001b[0;32m~/anaconda3/envs/thesis/lib/python3.8/site-packages/requests/models.py\u001b[0m in \u001b[0;36mgenerate\u001b[0;34m()\u001b[0m\n\u001b[1;32m    751\u001b[0m             \u001b[0;32mif\u001b[0m \u001b[0mhasattr\u001b[0m\u001b[0;34m(\u001b[0m\u001b[0mself\u001b[0m\u001b[0;34m.\u001b[0m\u001b[0mraw\u001b[0m\u001b[0;34m,\u001b[0m \u001b[0;34m'stream'\u001b[0m\u001b[0;34m)\u001b[0m\u001b[0;34m:\u001b[0m\u001b[0;34m\u001b[0m\u001b[0;34m\u001b[0m\u001b[0m\n\u001b[1;32m    752\u001b[0m                 \u001b[0;32mtry\u001b[0m\u001b[0;34m:\u001b[0m\u001b[0;34m\u001b[0m\u001b[0;34m\u001b[0m\u001b[0m\n\u001b[0;32m--> 753\u001b[0;31m                     \u001b[0;32mfor\u001b[0m \u001b[0mchunk\u001b[0m \u001b[0;32min\u001b[0m \u001b[0mself\u001b[0m\u001b[0;34m.\u001b[0m\u001b[0mraw\u001b[0m\u001b[0;34m.\u001b[0m\u001b[0mstream\u001b[0m\u001b[0;34m(\u001b[0m\u001b[0mchunk_size\u001b[0m\u001b[0;34m,\u001b[0m \u001b[0mdecode_content\u001b[0m\u001b[0;34m=\u001b[0m\u001b[0;32mTrue\u001b[0m\u001b[0;34m)\u001b[0m\u001b[0;34m:\u001b[0m\u001b[0;34m\u001b[0m\u001b[0;34m\u001b[0m\u001b[0m\n\u001b[0m\u001b[1;32m    754\u001b[0m                         \u001b[0;32myield\u001b[0m \u001b[0mchunk\u001b[0m\u001b[0;34m\u001b[0m\u001b[0;34m\u001b[0m\u001b[0m\n\u001b[1;32m    755\u001b[0m                 \u001b[0;32mexcept\u001b[0m \u001b[0mProtocolError\u001b[0m \u001b[0;32mas\u001b[0m \u001b[0me\u001b[0m\u001b[0;34m:\u001b[0m\u001b[0;34m\u001b[0m\u001b[0;34m\u001b[0m\u001b[0m\n",
      "\u001b[0;32m~/anaconda3/envs/thesis/lib/python3.8/site-packages/urllib3/response.py\u001b[0m in \u001b[0;36mstream\u001b[0;34m(self, amt, decode_content)\u001b[0m\n\u001b[1;32m    569\u001b[0m         \"\"\"\n\u001b[1;32m    570\u001b[0m         \u001b[0;32mif\u001b[0m \u001b[0mself\u001b[0m\u001b[0;34m.\u001b[0m\u001b[0mchunked\u001b[0m \u001b[0;32mand\u001b[0m \u001b[0mself\u001b[0m\u001b[0;34m.\u001b[0m\u001b[0msupports_chunked_reads\u001b[0m\u001b[0;34m(\u001b[0m\u001b[0;34m)\u001b[0m\u001b[0;34m:\u001b[0m\u001b[0;34m\u001b[0m\u001b[0;34m\u001b[0m\u001b[0m\n\u001b[0;32m--> 571\u001b[0;31m             \u001b[0;32mfor\u001b[0m \u001b[0mline\u001b[0m \u001b[0;32min\u001b[0m \u001b[0mself\u001b[0m\u001b[0;34m.\u001b[0m\u001b[0mread_chunked\u001b[0m\u001b[0;34m(\u001b[0m\u001b[0mamt\u001b[0m\u001b[0;34m,\u001b[0m \u001b[0mdecode_content\u001b[0m\u001b[0;34m=\u001b[0m\u001b[0mdecode_content\u001b[0m\u001b[0;34m)\u001b[0m\u001b[0;34m:\u001b[0m\u001b[0;34m\u001b[0m\u001b[0;34m\u001b[0m\u001b[0m\n\u001b[0m\u001b[1;32m    572\u001b[0m                 \u001b[0;32myield\u001b[0m \u001b[0mline\u001b[0m\u001b[0;34m\u001b[0m\u001b[0;34m\u001b[0m\u001b[0m\n\u001b[1;32m    573\u001b[0m         \u001b[0;32melse\u001b[0m\u001b[0;34m:\u001b[0m\u001b[0;34m\u001b[0m\u001b[0;34m\u001b[0m\u001b[0m\n",
      "\u001b[0;32m~/anaconda3/envs/thesis/lib/python3.8/site-packages/urllib3/response.py\u001b[0m in \u001b[0;36mread_chunked\u001b[0;34m(self, amt, decode_content)\u001b[0m\n\u001b[1;32m    761\u001b[0m \u001b[0;34m\u001b[0m\u001b[0m\n\u001b[1;32m    762\u001b[0m             \u001b[0;32mwhile\u001b[0m \u001b[0;32mTrue\u001b[0m\u001b[0;34m:\u001b[0m\u001b[0;34m\u001b[0m\u001b[0;34m\u001b[0m\u001b[0m\n\u001b[0;32m--> 763\u001b[0;31m                 \u001b[0mself\u001b[0m\u001b[0;34m.\u001b[0m\u001b[0m_update_chunk_length\u001b[0m\u001b[0;34m(\u001b[0m\u001b[0;34m)\u001b[0m\u001b[0;34m\u001b[0m\u001b[0;34m\u001b[0m\u001b[0m\n\u001b[0m\u001b[1;32m    764\u001b[0m                 \u001b[0;32mif\u001b[0m \u001b[0mself\u001b[0m\u001b[0;34m.\u001b[0m\u001b[0mchunk_left\u001b[0m \u001b[0;34m==\u001b[0m \u001b[0;36m0\u001b[0m\u001b[0;34m:\u001b[0m\u001b[0;34m\u001b[0m\u001b[0;34m\u001b[0m\u001b[0m\n\u001b[1;32m    765\u001b[0m                     \u001b[0;32mbreak\u001b[0m\u001b[0;34m\u001b[0m\u001b[0;34m\u001b[0m\u001b[0m\n",
      "\u001b[0;32m~/anaconda3/envs/thesis/lib/python3.8/site-packages/urllib3/response.py\u001b[0m in \u001b[0;36m_update_chunk_length\u001b[0;34m(self)\u001b[0m\n\u001b[1;32m    691\u001b[0m         \u001b[0;32mif\u001b[0m \u001b[0mself\u001b[0m\u001b[0;34m.\u001b[0m\u001b[0mchunk_left\u001b[0m \u001b[0;32mis\u001b[0m \u001b[0;32mnot\u001b[0m \u001b[0;32mNone\u001b[0m\u001b[0;34m:\u001b[0m\u001b[0;34m\u001b[0m\u001b[0;34m\u001b[0m\u001b[0m\n\u001b[1;32m    692\u001b[0m             \u001b[0;32mreturn\u001b[0m\u001b[0;34m\u001b[0m\u001b[0;34m\u001b[0m\u001b[0m\n\u001b[0;32m--> 693\u001b[0;31m         \u001b[0mline\u001b[0m \u001b[0;34m=\u001b[0m \u001b[0mself\u001b[0m\u001b[0;34m.\u001b[0m\u001b[0m_fp\u001b[0m\u001b[0;34m.\u001b[0m\u001b[0mfp\u001b[0m\u001b[0;34m.\u001b[0m\u001b[0mreadline\u001b[0m\u001b[0;34m(\u001b[0m\u001b[0;34m)\u001b[0m\u001b[0;34m\u001b[0m\u001b[0;34m\u001b[0m\u001b[0m\n\u001b[0m\u001b[1;32m    694\u001b[0m         \u001b[0mline\u001b[0m \u001b[0;34m=\u001b[0m \u001b[0mline\u001b[0m\u001b[0;34m.\u001b[0m\u001b[0msplit\u001b[0m\u001b[0;34m(\u001b[0m\u001b[0;34mb\";\"\u001b[0m\u001b[0;34m,\u001b[0m \u001b[0;36m1\u001b[0m\u001b[0;34m)\u001b[0m\u001b[0;34m[\u001b[0m\u001b[0;36m0\u001b[0m\u001b[0;34m]\u001b[0m\u001b[0;34m\u001b[0m\u001b[0;34m\u001b[0m\u001b[0m\n\u001b[1;32m    695\u001b[0m         \u001b[0;32mtry\u001b[0m\u001b[0;34m:\u001b[0m\u001b[0;34m\u001b[0m\u001b[0;34m\u001b[0m\u001b[0m\n",
      "\u001b[0;32m~/anaconda3/envs/thesis/lib/python3.8/socket.py\u001b[0m in \u001b[0;36mreadinto\u001b[0;34m(self, b)\u001b[0m\n\u001b[1;32m    667\u001b[0m         \u001b[0;32mwhile\u001b[0m \u001b[0;32mTrue\u001b[0m\u001b[0;34m:\u001b[0m\u001b[0;34m\u001b[0m\u001b[0;34m\u001b[0m\u001b[0m\n\u001b[1;32m    668\u001b[0m             \u001b[0;32mtry\u001b[0m\u001b[0;34m:\u001b[0m\u001b[0;34m\u001b[0m\u001b[0;34m\u001b[0m\u001b[0m\n\u001b[0;32m--> 669\u001b[0;31m                 \u001b[0;32mreturn\u001b[0m \u001b[0mself\u001b[0m\u001b[0;34m.\u001b[0m\u001b[0m_sock\u001b[0m\u001b[0;34m.\u001b[0m\u001b[0mrecv_into\u001b[0m\u001b[0;34m(\u001b[0m\u001b[0mb\u001b[0m\u001b[0;34m)\u001b[0m\u001b[0;34m\u001b[0m\u001b[0;34m\u001b[0m\u001b[0m\n\u001b[0m\u001b[1;32m    670\u001b[0m             \u001b[0;32mexcept\u001b[0m \u001b[0mtimeout\u001b[0m\u001b[0;34m:\u001b[0m\u001b[0;34m\u001b[0m\u001b[0;34m\u001b[0m\u001b[0m\n\u001b[1;32m    671\u001b[0m                 \u001b[0mself\u001b[0m\u001b[0;34m.\u001b[0m\u001b[0m_timeout_occurred\u001b[0m \u001b[0;34m=\u001b[0m \u001b[0;32mTrue\u001b[0m\u001b[0;34m\u001b[0m\u001b[0;34m\u001b[0m\u001b[0m\n",
      "\u001b[0;32m~/anaconda3/envs/thesis/lib/python3.8/ssl.py\u001b[0m in \u001b[0;36mrecv_into\u001b[0;34m(self, buffer, nbytes, flags)\u001b[0m\n\u001b[1;32m   1239\u001b[0m                   \u001b[0;34m\"non-zero flags not allowed in calls to recv_into() on %s\"\u001b[0m \u001b[0;34m%\u001b[0m\u001b[0;34m\u001b[0m\u001b[0;34m\u001b[0m\u001b[0m\n\u001b[1;32m   1240\u001b[0m                   self.__class__)\n\u001b[0;32m-> 1241\u001b[0;31m             \u001b[0;32mreturn\u001b[0m \u001b[0mself\u001b[0m\u001b[0;34m.\u001b[0m\u001b[0mread\u001b[0m\u001b[0;34m(\u001b[0m\u001b[0mnbytes\u001b[0m\u001b[0;34m,\u001b[0m \u001b[0mbuffer\u001b[0m\u001b[0;34m)\u001b[0m\u001b[0;34m\u001b[0m\u001b[0;34m\u001b[0m\u001b[0m\n\u001b[0m\u001b[1;32m   1242\u001b[0m         \u001b[0;32melse\u001b[0m\u001b[0;34m:\u001b[0m\u001b[0;34m\u001b[0m\u001b[0;34m\u001b[0m\u001b[0m\n\u001b[1;32m   1243\u001b[0m             \u001b[0;32mreturn\u001b[0m \u001b[0msuper\u001b[0m\u001b[0;34m(\u001b[0m\u001b[0;34m)\u001b[0m\u001b[0;34m.\u001b[0m\u001b[0mrecv_into\u001b[0m\u001b[0;34m(\u001b[0m\u001b[0mbuffer\u001b[0m\u001b[0;34m,\u001b[0m \u001b[0mnbytes\u001b[0m\u001b[0;34m,\u001b[0m \u001b[0mflags\u001b[0m\u001b[0;34m)\u001b[0m\u001b[0;34m\u001b[0m\u001b[0;34m\u001b[0m\u001b[0m\n",
      "\u001b[0;32m~/anaconda3/envs/thesis/lib/python3.8/ssl.py\u001b[0m in \u001b[0;36mread\u001b[0;34m(self, len, buffer)\u001b[0m\n\u001b[1;32m   1097\u001b[0m         \u001b[0;32mtry\u001b[0m\u001b[0;34m:\u001b[0m\u001b[0;34m\u001b[0m\u001b[0;34m\u001b[0m\u001b[0m\n\u001b[1;32m   1098\u001b[0m             \u001b[0;32mif\u001b[0m \u001b[0mbuffer\u001b[0m \u001b[0;32mis\u001b[0m \u001b[0;32mnot\u001b[0m \u001b[0;32mNone\u001b[0m\u001b[0;34m:\u001b[0m\u001b[0;34m\u001b[0m\u001b[0;34m\u001b[0m\u001b[0m\n\u001b[0;32m-> 1099\u001b[0;31m                 \u001b[0;32mreturn\u001b[0m \u001b[0mself\u001b[0m\u001b[0;34m.\u001b[0m\u001b[0m_sslobj\u001b[0m\u001b[0;34m.\u001b[0m\u001b[0mread\u001b[0m\u001b[0;34m(\u001b[0m\u001b[0mlen\u001b[0m\u001b[0;34m,\u001b[0m \u001b[0mbuffer\u001b[0m\u001b[0;34m)\u001b[0m\u001b[0;34m\u001b[0m\u001b[0;34m\u001b[0m\u001b[0m\n\u001b[0m\u001b[1;32m   1100\u001b[0m             \u001b[0;32melse\u001b[0m\u001b[0;34m:\u001b[0m\u001b[0;34m\u001b[0m\u001b[0;34m\u001b[0m\u001b[0m\n\u001b[1;32m   1101\u001b[0m                 \u001b[0;32mreturn\u001b[0m \u001b[0mself\u001b[0m\u001b[0;34m.\u001b[0m\u001b[0m_sslobj\u001b[0m\u001b[0;34m.\u001b[0m\u001b[0mread\u001b[0m\u001b[0;34m(\u001b[0m\u001b[0mlen\u001b[0m\u001b[0;34m)\u001b[0m\u001b[0;34m\u001b[0m\u001b[0;34m\u001b[0m\u001b[0m\n",
      "\u001b[0;31mKeyboardInterrupt\u001b[0m: "
     ]
    }
   ],
   "source": [
    "# doesn't work properly\n",
    "while len(fail_dict) != 0:\n",
    "    retry_fail(fail_dict)"
   ]
  },
  {
   "cell_type": "markdown",
   "metadata": {},
   "source": [
    "## Download transcripts"
   ]
  },
  {
   "cell_type": "markdown",
   "metadata": {},
   "source": [
    "The json file has the following structure: \n",
    "\n",
    "{\\\n",
    "    url: \\[title, description, video_url, transcript_url\\]\\\n",
    "}\n",
    "\n",
    "The name of the files (audio and transcript) is the url. The \\/ is substituted by __ \\\n",
    "The video_url must end with .mp4 or any other format. \\\n",
    "The transcrip_url must end with .srt, .vtt or .txt"
   ]
  },
  {
   "cell_type": "code",
   "execution_count": 3,
   "metadata": {},
   "outputs": [],
   "source": [
    "def make_name(url):\n",
    "    \"\"\"Make the file name from the url\"\"\"\n",
    "    return url.replace(\"/\", \"__\")"
   ]
  },
  {
   "cell_type": "code",
   "execution_count": 14,
   "metadata": {},
   "outputs": [],
   "source": [
    "def save_transcript(entry, folder):\n",
    "    \"\"\"Save the transcript\"\"\"\n",
    "    url = entry[0] # used for the name\n",
    "    trans_url = entry[1][3] # transcript\n",
    "    fmt = trans_url.strip()[-3:] # get the format\n",
    "    if len(trans_url) == 0:\n",
    "        #print(\"Empty url\")\n",
    "        pass\n",
    "    else:\n",
    "        if fmt not in [\"srt\", \"vtt\", \"txt\"]:\n",
    "            print(\"Unknown format:\", fmt)\n",
    "        try:\n",
    "            r = requests.get(trans_url)\n",
    "            if r.ok:\n",
    "                file_name = url.replace(\"/\", \"__\")\n",
    "                try:\n",
    "                    with open(f\"{folder}/{file_name}.{fmt}\", \"xt\") as f:\n",
    "                        f.write(r.text)\n",
    "                except FileExistsError:\n",
    "                    #print(\"File already exists:\", entry[0])\n",
    "                    pass\n",
    "            else:\n",
    "                print(\"Request not ok on:\", entry[0])\n",
    "        except requests.ConnectionError: # e.g. invalid URL\n",
    "            print(\"Connection error on:\", entry[0])\n",
    "        except requests.exceptions.MissingSchema:\n",
    "            pass"
   ]
  },
  {
   "cell_type": "code",
   "execution_count": 15,
   "metadata": {
    "collapsed": true,
    "jupyter": {
     "outputs_hidden": true
    }
   },
   "outputs": [
    {
     "name": "stdout",
     "output_type": "stream",
     "text": [
      "Folder: TED-Translator\n",
      "Folder TED-Translator: [||||||--------------------------------------------] 12.50% - 2/16"
     ]
    },
    {
     "ename": "KeyboardInterrupt",
     "evalue": "",
     "output_type": "error",
     "traceback": [
      "\u001b[0;31m---------------------------------------------------------------------------\u001b[0m",
      "\u001b[0;31mKeyboardInterrupt\u001b[0m                         Traceback (most recent call last)",
      "\u001b[0;32m<ipython-input-15-37c0ee485de9>\u001b[0m in \u001b[0;36m<module>\u001b[0;34m\u001b[0m\n\u001b[1;32m      9\u001b[0m         \u001b[0mprogress_bar\u001b[0m\u001b[0;34m(\u001b[0m\u001b[0mcount\u001b[0m\u001b[0;34m,\u001b[0m \u001b[0;34mf\"Folder {folder}\"\u001b[0m\u001b[0;34m,\u001b[0m \u001b[0mtot\u001b[0m\u001b[0;34m=\u001b[0m\u001b[0mtot\u001b[0m\u001b[0;34m)\u001b[0m\u001b[0;34m\u001b[0m\u001b[0;34m\u001b[0m\u001b[0m\n\u001b[1;32m     10\u001b[0m         \u001b[0;32mfor\u001b[0m \u001b[0mentry\u001b[0m \u001b[0;32min\u001b[0m \u001b[0mdict_data\u001b[0m\u001b[0;34m.\u001b[0m\u001b[0mitems\u001b[0m\u001b[0;34m(\u001b[0m\u001b[0;34m)\u001b[0m\u001b[0;34m:\u001b[0m\u001b[0;34m\u001b[0m\u001b[0;34m\u001b[0m\u001b[0m\n\u001b[0;32m---> 11\u001b[0;31m             \u001b[0msave_transcript\u001b[0m\u001b[0;34m(\u001b[0m\u001b[0mentry\u001b[0m\u001b[0;34m,\u001b[0m \u001b[0mfolder\u001b[0m\u001b[0;34m)\u001b[0m\u001b[0;34m\u001b[0m\u001b[0;34m\u001b[0m\u001b[0m\n\u001b[0m\u001b[1;32m     12\u001b[0m             \u001b[0mcount\u001b[0m \u001b[0;34m+=\u001b[0m \u001b[0;36m1\u001b[0m\u001b[0;34m\u001b[0m\u001b[0;34m\u001b[0m\u001b[0m\n\u001b[1;32m     13\u001b[0m             \u001b[0mprogress_bar\u001b[0m\u001b[0;34m(\u001b[0m\u001b[0mcount\u001b[0m\u001b[0;34m,\u001b[0m \u001b[0;34mf\"Folder {folder}\"\u001b[0m\u001b[0;34m,\u001b[0m \u001b[0mtot\u001b[0m\u001b[0;34m=\u001b[0m\u001b[0mtot\u001b[0m\u001b[0;34m)\u001b[0m\u001b[0;34m\u001b[0m\u001b[0;34m\u001b[0m\u001b[0m\n",
      "\u001b[0;32m<ipython-input-14-735006ee7220>\u001b[0m in \u001b[0;36msave_transcript\u001b[0;34m(entry, folder)\u001b[0m\n\u001b[1;32m     11\u001b[0m             \u001b[0mprint\u001b[0m\u001b[0;34m(\u001b[0m\u001b[0;34m\"Unknown format:\"\u001b[0m\u001b[0;34m,\u001b[0m \u001b[0mfmt\u001b[0m\u001b[0;34m)\u001b[0m\u001b[0;34m\u001b[0m\u001b[0;34m\u001b[0m\u001b[0m\n\u001b[1;32m     12\u001b[0m         \u001b[0;32mtry\u001b[0m\u001b[0;34m:\u001b[0m\u001b[0;34m\u001b[0m\u001b[0;34m\u001b[0m\u001b[0m\n\u001b[0;32m---> 13\u001b[0;31m             \u001b[0mr\u001b[0m \u001b[0;34m=\u001b[0m \u001b[0mrequests\u001b[0m\u001b[0;34m.\u001b[0m\u001b[0mget\u001b[0m\u001b[0;34m(\u001b[0m\u001b[0mtrans_url\u001b[0m\u001b[0;34m)\u001b[0m\u001b[0;34m\u001b[0m\u001b[0;34m\u001b[0m\u001b[0m\n\u001b[0m\u001b[1;32m     14\u001b[0m             \u001b[0;32mif\u001b[0m \u001b[0mr\u001b[0m\u001b[0;34m.\u001b[0m\u001b[0mok\u001b[0m\u001b[0;34m:\u001b[0m\u001b[0;34m\u001b[0m\u001b[0;34m\u001b[0m\u001b[0m\n\u001b[1;32m     15\u001b[0m                 \u001b[0mfile_name\u001b[0m \u001b[0;34m=\u001b[0m \u001b[0murl\u001b[0m\u001b[0;34m.\u001b[0m\u001b[0mreplace\u001b[0m\u001b[0;34m(\u001b[0m\u001b[0;34m\"/\"\u001b[0m\u001b[0;34m,\u001b[0m \u001b[0;34m\"__\"\u001b[0m\u001b[0;34m)\u001b[0m\u001b[0;34m\u001b[0m\u001b[0;34m\u001b[0m\u001b[0m\n",
      "\u001b[0;32m~/anaconda3/envs/thesis/lib/python3.8/site-packages/requests/api.py\u001b[0m in \u001b[0;36mget\u001b[0;34m(url, params, **kwargs)\u001b[0m\n\u001b[1;32m     74\u001b[0m \u001b[0;34m\u001b[0m\u001b[0m\n\u001b[1;32m     75\u001b[0m     \u001b[0mkwargs\u001b[0m\u001b[0;34m.\u001b[0m\u001b[0msetdefault\u001b[0m\u001b[0;34m(\u001b[0m\u001b[0;34m'allow_redirects'\u001b[0m\u001b[0;34m,\u001b[0m \u001b[0;32mTrue\u001b[0m\u001b[0;34m)\u001b[0m\u001b[0;34m\u001b[0m\u001b[0;34m\u001b[0m\u001b[0m\n\u001b[0;32m---> 76\u001b[0;31m     \u001b[0;32mreturn\u001b[0m \u001b[0mrequest\u001b[0m\u001b[0;34m(\u001b[0m\u001b[0;34m'get'\u001b[0m\u001b[0;34m,\u001b[0m \u001b[0murl\u001b[0m\u001b[0;34m,\u001b[0m \u001b[0mparams\u001b[0m\u001b[0;34m=\u001b[0m\u001b[0mparams\u001b[0m\u001b[0;34m,\u001b[0m \u001b[0;34m**\u001b[0m\u001b[0mkwargs\u001b[0m\u001b[0;34m)\u001b[0m\u001b[0;34m\u001b[0m\u001b[0;34m\u001b[0m\u001b[0m\n\u001b[0m\u001b[1;32m     77\u001b[0m \u001b[0;34m\u001b[0m\u001b[0m\n\u001b[1;32m     78\u001b[0m \u001b[0;34m\u001b[0m\u001b[0m\n",
      "\u001b[0;32m~/anaconda3/envs/thesis/lib/python3.8/site-packages/requests/api.py\u001b[0m in \u001b[0;36mrequest\u001b[0;34m(method, url, **kwargs)\u001b[0m\n\u001b[1;32m     59\u001b[0m     \u001b[0;31m# cases, and look like a memory leak in others.\u001b[0m\u001b[0;34m\u001b[0m\u001b[0;34m\u001b[0m\u001b[0;34m\u001b[0m\u001b[0m\n\u001b[1;32m     60\u001b[0m     \u001b[0;32mwith\u001b[0m \u001b[0msessions\u001b[0m\u001b[0;34m.\u001b[0m\u001b[0mSession\u001b[0m\u001b[0;34m(\u001b[0m\u001b[0;34m)\u001b[0m \u001b[0;32mas\u001b[0m \u001b[0msession\u001b[0m\u001b[0;34m:\u001b[0m\u001b[0;34m\u001b[0m\u001b[0;34m\u001b[0m\u001b[0m\n\u001b[0;32m---> 61\u001b[0;31m         \u001b[0;32mreturn\u001b[0m \u001b[0msession\u001b[0m\u001b[0;34m.\u001b[0m\u001b[0mrequest\u001b[0m\u001b[0;34m(\u001b[0m\u001b[0mmethod\u001b[0m\u001b[0;34m=\u001b[0m\u001b[0mmethod\u001b[0m\u001b[0;34m,\u001b[0m \u001b[0murl\u001b[0m\u001b[0;34m=\u001b[0m\u001b[0murl\u001b[0m\u001b[0;34m,\u001b[0m \u001b[0;34m**\u001b[0m\u001b[0mkwargs\u001b[0m\u001b[0;34m)\u001b[0m\u001b[0;34m\u001b[0m\u001b[0;34m\u001b[0m\u001b[0m\n\u001b[0m\u001b[1;32m     62\u001b[0m \u001b[0;34m\u001b[0m\u001b[0m\n\u001b[1;32m     63\u001b[0m \u001b[0;34m\u001b[0m\u001b[0m\n",
      "\u001b[0;32m~/anaconda3/envs/thesis/lib/python3.8/site-packages/requests/sessions.py\u001b[0m in \u001b[0;36mrequest\u001b[0;34m(self, method, url, params, data, headers, cookies, files, auth, timeout, allow_redirects, proxies, hooks, stream, verify, cert, json)\u001b[0m\n\u001b[1;32m    540\u001b[0m         }\n\u001b[1;32m    541\u001b[0m         \u001b[0msend_kwargs\u001b[0m\u001b[0;34m.\u001b[0m\u001b[0mupdate\u001b[0m\u001b[0;34m(\u001b[0m\u001b[0msettings\u001b[0m\u001b[0;34m)\u001b[0m\u001b[0;34m\u001b[0m\u001b[0;34m\u001b[0m\u001b[0m\n\u001b[0;32m--> 542\u001b[0;31m         \u001b[0mresp\u001b[0m \u001b[0;34m=\u001b[0m \u001b[0mself\u001b[0m\u001b[0;34m.\u001b[0m\u001b[0msend\u001b[0m\u001b[0;34m(\u001b[0m\u001b[0mprep\u001b[0m\u001b[0;34m,\u001b[0m \u001b[0;34m**\u001b[0m\u001b[0msend_kwargs\u001b[0m\u001b[0;34m)\u001b[0m\u001b[0;34m\u001b[0m\u001b[0;34m\u001b[0m\u001b[0m\n\u001b[0m\u001b[1;32m    543\u001b[0m \u001b[0;34m\u001b[0m\u001b[0m\n\u001b[1;32m    544\u001b[0m         \u001b[0;32mreturn\u001b[0m \u001b[0mresp\u001b[0m\u001b[0;34m\u001b[0m\u001b[0;34m\u001b[0m\u001b[0m\n",
      "\u001b[0;32m~/anaconda3/envs/thesis/lib/python3.8/site-packages/requests/sessions.py\u001b[0m in \u001b[0;36msend\u001b[0;34m(self, request, **kwargs)\u001b[0m\n\u001b[1;32m    653\u001b[0m \u001b[0;34m\u001b[0m\u001b[0m\n\u001b[1;32m    654\u001b[0m         \u001b[0;31m# Send the request\u001b[0m\u001b[0;34m\u001b[0m\u001b[0;34m\u001b[0m\u001b[0;34m\u001b[0m\u001b[0m\n\u001b[0;32m--> 655\u001b[0;31m         \u001b[0mr\u001b[0m \u001b[0;34m=\u001b[0m \u001b[0madapter\u001b[0m\u001b[0;34m.\u001b[0m\u001b[0msend\u001b[0m\u001b[0;34m(\u001b[0m\u001b[0mrequest\u001b[0m\u001b[0;34m,\u001b[0m \u001b[0;34m**\u001b[0m\u001b[0mkwargs\u001b[0m\u001b[0;34m)\u001b[0m\u001b[0;34m\u001b[0m\u001b[0;34m\u001b[0m\u001b[0m\n\u001b[0m\u001b[1;32m    656\u001b[0m \u001b[0;34m\u001b[0m\u001b[0m\n\u001b[1;32m    657\u001b[0m         \u001b[0;31m# Total elapsed time of the request (approximately)\u001b[0m\u001b[0;34m\u001b[0m\u001b[0;34m\u001b[0m\u001b[0;34m\u001b[0m\u001b[0m\n",
      "\u001b[0;32m~/anaconda3/envs/thesis/lib/python3.8/site-packages/requests/adapters.py\u001b[0m in \u001b[0;36msend\u001b[0;34m(self, request, stream, timeout, verify, cert, proxies)\u001b[0m\n\u001b[1;32m    437\u001b[0m         \u001b[0;32mtry\u001b[0m\u001b[0;34m:\u001b[0m\u001b[0;34m\u001b[0m\u001b[0;34m\u001b[0m\u001b[0m\n\u001b[1;32m    438\u001b[0m             \u001b[0;32mif\u001b[0m \u001b[0;32mnot\u001b[0m \u001b[0mchunked\u001b[0m\u001b[0;34m:\u001b[0m\u001b[0;34m\u001b[0m\u001b[0;34m\u001b[0m\u001b[0m\n\u001b[0;32m--> 439\u001b[0;31m                 resp = conn.urlopen(\n\u001b[0m\u001b[1;32m    440\u001b[0m                     \u001b[0mmethod\u001b[0m\u001b[0;34m=\u001b[0m\u001b[0mrequest\u001b[0m\u001b[0;34m.\u001b[0m\u001b[0mmethod\u001b[0m\u001b[0;34m,\u001b[0m\u001b[0;34m\u001b[0m\u001b[0;34m\u001b[0m\u001b[0m\n\u001b[1;32m    441\u001b[0m                     \u001b[0murl\u001b[0m\u001b[0;34m=\u001b[0m\u001b[0murl\u001b[0m\u001b[0;34m,\u001b[0m\u001b[0;34m\u001b[0m\u001b[0;34m\u001b[0m\u001b[0m\n",
      "\u001b[0;32m~/anaconda3/envs/thesis/lib/python3.8/site-packages/urllib3/connectionpool.py\u001b[0m in \u001b[0;36murlopen\u001b[0;34m(self, method, url, body, headers, retries, redirect, assert_same_host, timeout, pool_timeout, release_conn, chunked, body_pos, **response_kw)\u001b[0m\n\u001b[1;32m    668\u001b[0m \u001b[0;34m\u001b[0m\u001b[0m\n\u001b[1;32m    669\u001b[0m             \u001b[0;31m# Make the request on the httplib connection object.\u001b[0m\u001b[0;34m\u001b[0m\u001b[0;34m\u001b[0m\u001b[0;34m\u001b[0m\u001b[0m\n\u001b[0;32m--> 670\u001b[0;31m             httplib_response = self._make_request(\n\u001b[0m\u001b[1;32m    671\u001b[0m                 \u001b[0mconn\u001b[0m\u001b[0;34m,\u001b[0m\u001b[0;34m\u001b[0m\u001b[0;34m\u001b[0m\u001b[0m\n\u001b[1;32m    672\u001b[0m                 \u001b[0mmethod\u001b[0m\u001b[0;34m,\u001b[0m\u001b[0;34m\u001b[0m\u001b[0;34m\u001b[0m\u001b[0m\n",
      "\u001b[0;32m~/anaconda3/envs/thesis/lib/python3.8/site-packages/urllib3/connectionpool.py\u001b[0m in \u001b[0;36m_make_request\u001b[0;34m(self, conn, method, url, timeout, chunked, **httplib_request_kw)\u001b[0m\n\u001b[1;32m    379\u001b[0m         \u001b[0;31m# Trigger any extra validation we need to do.\u001b[0m\u001b[0;34m\u001b[0m\u001b[0;34m\u001b[0m\u001b[0;34m\u001b[0m\u001b[0m\n\u001b[1;32m    380\u001b[0m         \u001b[0;32mtry\u001b[0m\u001b[0;34m:\u001b[0m\u001b[0;34m\u001b[0m\u001b[0;34m\u001b[0m\u001b[0m\n\u001b[0;32m--> 381\u001b[0;31m             \u001b[0mself\u001b[0m\u001b[0;34m.\u001b[0m\u001b[0m_validate_conn\u001b[0m\u001b[0;34m(\u001b[0m\u001b[0mconn\u001b[0m\u001b[0;34m)\u001b[0m\u001b[0;34m\u001b[0m\u001b[0;34m\u001b[0m\u001b[0m\n\u001b[0m\u001b[1;32m    382\u001b[0m         \u001b[0;32mexcept\u001b[0m \u001b[0;34m(\u001b[0m\u001b[0mSocketTimeout\u001b[0m\u001b[0;34m,\u001b[0m \u001b[0mBaseSSLError\u001b[0m\u001b[0;34m)\u001b[0m \u001b[0;32mas\u001b[0m \u001b[0me\u001b[0m\u001b[0;34m:\u001b[0m\u001b[0;34m\u001b[0m\u001b[0;34m\u001b[0m\u001b[0m\n\u001b[1;32m    383\u001b[0m             \u001b[0;31m# Py2 raises this as a BaseSSLError, Py3 raises it as socket timeout.\u001b[0m\u001b[0;34m\u001b[0m\u001b[0;34m\u001b[0m\u001b[0;34m\u001b[0m\u001b[0m\n",
      "\u001b[0;32m~/anaconda3/envs/thesis/lib/python3.8/site-packages/urllib3/connectionpool.py\u001b[0m in \u001b[0;36m_validate_conn\u001b[0;34m(self, conn)\u001b[0m\n\u001b[1;32m    976\u001b[0m         \u001b[0;31m# Force connect early to allow us to validate the connection.\u001b[0m\u001b[0;34m\u001b[0m\u001b[0;34m\u001b[0m\u001b[0;34m\u001b[0m\u001b[0m\n\u001b[1;32m    977\u001b[0m         \u001b[0;32mif\u001b[0m \u001b[0;32mnot\u001b[0m \u001b[0mgetattr\u001b[0m\u001b[0;34m(\u001b[0m\u001b[0mconn\u001b[0m\u001b[0;34m,\u001b[0m \u001b[0;34m\"sock\"\u001b[0m\u001b[0;34m,\u001b[0m \u001b[0;32mNone\u001b[0m\u001b[0;34m)\u001b[0m\u001b[0;34m:\u001b[0m  \u001b[0;31m# AppEngine might not have  `.sock`\u001b[0m\u001b[0;34m\u001b[0m\u001b[0;34m\u001b[0m\u001b[0m\n\u001b[0;32m--> 978\u001b[0;31m             \u001b[0mconn\u001b[0m\u001b[0;34m.\u001b[0m\u001b[0mconnect\u001b[0m\u001b[0;34m(\u001b[0m\u001b[0;34m)\u001b[0m\u001b[0;34m\u001b[0m\u001b[0;34m\u001b[0m\u001b[0m\n\u001b[0m\u001b[1;32m    979\u001b[0m \u001b[0;34m\u001b[0m\u001b[0m\n\u001b[1;32m    980\u001b[0m         \u001b[0;32mif\u001b[0m \u001b[0;32mnot\u001b[0m \u001b[0mconn\u001b[0m\u001b[0;34m.\u001b[0m\u001b[0mis_verified\u001b[0m\u001b[0;34m:\u001b[0m\u001b[0;34m\u001b[0m\u001b[0;34m\u001b[0m\u001b[0m\n",
      "\u001b[0;32m~/anaconda3/envs/thesis/lib/python3.8/site-packages/urllib3/connection.py\u001b[0m in \u001b[0;36mconnect\u001b[0;34m(self)\u001b[0m\n\u001b[1;32m    307\u001b[0m     \u001b[0;32mdef\u001b[0m \u001b[0mconnect\u001b[0m\u001b[0;34m(\u001b[0m\u001b[0mself\u001b[0m\u001b[0;34m)\u001b[0m\u001b[0;34m:\u001b[0m\u001b[0;34m\u001b[0m\u001b[0;34m\u001b[0m\u001b[0m\n\u001b[1;32m    308\u001b[0m         \u001b[0;31m# Add certificate verification\u001b[0m\u001b[0;34m\u001b[0m\u001b[0;34m\u001b[0m\u001b[0;34m\u001b[0m\u001b[0m\n\u001b[0;32m--> 309\u001b[0;31m         \u001b[0mconn\u001b[0m \u001b[0;34m=\u001b[0m \u001b[0mself\u001b[0m\u001b[0;34m.\u001b[0m\u001b[0m_new_conn\u001b[0m\u001b[0;34m(\u001b[0m\u001b[0;34m)\u001b[0m\u001b[0;34m\u001b[0m\u001b[0;34m\u001b[0m\u001b[0m\n\u001b[0m\u001b[1;32m    310\u001b[0m         \u001b[0mhostname\u001b[0m \u001b[0;34m=\u001b[0m \u001b[0mself\u001b[0m\u001b[0;34m.\u001b[0m\u001b[0mhost\u001b[0m\u001b[0;34m\u001b[0m\u001b[0;34m\u001b[0m\u001b[0m\n\u001b[1;32m    311\u001b[0m \u001b[0;34m\u001b[0m\u001b[0m\n",
      "\u001b[0;32m~/anaconda3/envs/thesis/lib/python3.8/site-packages/urllib3/connection.py\u001b[0m in \u001b[0;36m_new_conn\u001b[0;34m(self)\u001b[0m\n\u001b[1;32m    157\u001b[0m \u001b[0;34m\u001b[0m\u001b[0m\n\u001b[1;32m    158\u001b[0m         \u001b[0;32mtry\u001b[0m\u001b[0;34m:\u001b[0m\u001b[0;34m\u001b[0m\u001b[0;34m\u001b[0m\u001b[0m\n\u001b[0;32m--> 159\u001b[0;31m             conn = connection.create_connection(\n\u001b[0m\u001b[1;32m    160\u001b[0m                 \u001b[0;34m(\u001b[0m\u001b[0mself\u001b[0m\u001b[0;34m.\u001b[0m\u001b[0m_dns_host\u001b[0m\u001b[0;34m,\u001b[0m \u001b[0mself\u001b[0m\u001b[0;34m.\u001b[0m\u001b[0mport\u001b[0m\u001b[0;34m)\u001b[0m\u001b[0;34m,\u001b[0m \u001b[0mself\u001b[0m\u001b[0;34m.\u001b[0m\u001b[0mtimeout\u001b[0m\u001b[0;34m,\u001b[0m \u001b[0;34m**\u001b[0m\u001b[0mextra_kw\u001b[0m\u001b[0;34m\u001b[0m\u001b[0;34m\u001b[0m\u001b[0m\n\u001b[1;32m    161\u001b[0m             )\n",
      "\u001b[0;32m~/anaconda3/envs/thesis/lib/python3.8/site-packages/urllib3/util/connection.py\u001b[0m in \u001b[0;36mcreate_connection\u001b[0;34m(address, timeout, source_address, socket_options)\u001b[0m\n\u001b[1;32m     72\u001b[0m             \u001b[0;32mif\u001b[0m \u001b[0msource_address\u001b[0m\u001b[0;34m:\u001b[0m\u001b[0;34m\u001b[0m\u001b[0;34m\u001b[0m\u001b[0m\n\u001b[1;32m     73\u001b[0m                 \u001b[0msock\u001b[0m\u001b[0;34m.\u001b[0m\u001b[0mbind\u001b[0m\u001b[0;34m(\u001b[0m\u001b[0msource_address\u001b[0m\u001b[0;34m)\u001b[0m\u001b[0;34m\u001b[0m\u001b[0;34m\u001b[0m\u001b[0m\n\u001b[0;32m---> 74\u001b[0;31m             \u001b[0msock\u001b[0m\u001b[0;34m.\u001b[0m\u001b[0mconnect\u001b[0m\u001b[0;34m(\u001b[0m\u001b[0msa\u001b[0m\u001b[0;34m)\u001b[0m\u001b[0;34m\u001b[0m\u001b[0;34m\u001b[0m\u001b[0m\n\u001b[0m\u001b[1;32m     75\u001b[0m             \u001b[0;32mreturn\u001b[0m \u001b[0msock\u001b[0m\u001b[0;34m\u001b[0m\u001b[0;34m\u001b[0m\u001b[0m\n\u001b[1;32m     76\u001b[0m \u001b[0;34m\u001b[0m\u001b[0m\n",
      "\u001b[0;31mKeyboardInterrupt\u001b[0m: "
     ]
    }
   ],
   "source": [
    "for folder in folders:\n",
    "    print(\"Folder:\", folder)\n",
    "    dict_data = {}\n",
    "    with open(f\"{folder}/{json_file}\", \"r\") as f:\n",
    "        dict_data = json.load(f)\n",
    "    tot = len(dict_data)\n",
    "    count = 0\n",
    "    if tot != 0:\n",
    "        progress_bar(count, f\"Folder {folder}\", tot=tot)\n",
    "        for entry in dict_data.items():\n",
    "            save_transcript(entry, folder)\n",
    "            count += 1\n",
    "            progress_bar(count, f\"Folder {folder}\", tot=tot)"
   ]
  },
  {
   "cell_type": "markdown",
   "metadata": {},
   "source": [
    "## Download audio"
   ]
  },
  {
   "cell_type": "markdown",
   "metadata": {},
   "source": [
    "Use the same approach used for the transcripts.\n",
    "To extraxt the audio ffmpeg is used.\n",
    "\n",
    "This command seems to work: ffmpeg -i pipe: -map a name_audio.wav\n",
    "\n",
    "However, the subtitles are still in the audio file"
   ]
  },
  {
   "cell_type": "raw",
   "metadata": {},
   "source": [
    "ffprobe -i test.mp4 -show_format -pretty -loglevel quiet -show_streams -print_format json\n",
    "ffmpeg -i test.mp4 -map 4 test.mp3 -gpu 0"
   ]
  },
  {
   "cell_type": "code",
   "execution_count": 3,
   "metadata": {},
   "outputs": [],
   "source": [
    "def save_audio(entry, folder):\n",
    "    \"\"\"Save the audio\"\"\"\n",
    "    url = entry[0] # used for the name\n",
    "    video_url = entry[1][2] # transcript\n",
    "    fmt = video_url.strip()[-3:] # get the format\n",
    "    if len(video_url) == 0:\n",
    "        #print(\"Empty url\")\n",
    "        pass\n",
    "    elif \"youtube\" in video_url:\n",
    "        #print(\"youtube video\")\n",
    "        pass\n",
    "    elif fmt not in [\"mp4\"]:\n",
    "        print(\"Unknown format:\", fmt)\n",
    "    else:  \n",
    "        try:\n",
    "            file_name = make_name(url) # TODO check if exists, if not download, otherwise skip\n",
    "            if not os.path.isfile(f\"{folder}/{file_name}.wav\"):                \n",
    "                r = requests.get(video_url, timeout=60)\n",
    "                #print(\"Done\")\n",
    "                if r.ok:\n",
    "                    # run ffmpeg, input from pipe, map only audio, on gpu 0, do not overwrite existing files\n",
    "                    cmd = [\"ffmpeg\", \"-i\", \"pipe:\", \"-map\", \"a\", \"-gpu\", \"0\", \"-n\", f\"{folder}/{file_name}.wav\"]\n",
    "                    proc = subprocess.Popen(cmd, stdin=subprocess.PIPE, stdout=subprocess.PIPE) # output will be ignored\n",
    "                    proc.communicate(r.content)\n",
    "                else:\n",
    "                    print(\"Request not ok on:\", entry[0])\n",
    "        except requests.Timeout:\n",
    "            print(\"Timeout\")\n",
    "        except requests.ConnectionError: # e.g. invalid URL\n",
    "            print(\"Connection error on:\", entry[0])\n",
    "        except requests.exceptions.MissingSchema:\n",
    "            pass        "
   ]
  },
  {
   "cell_type": "code",
   "execution_count": 5,
   "metadata": {
    "collapsed": true,
    "jupyter": {
     "outputs_hidden": true
    }
   },
   "outputs": [
    {
     "name": "stdout",
     "output_type": "stream",
     "text": [
      "Folder: TED\n",
      "Folder TED: [||||||||||||||||||||||||||||||||||||||||||||||||||] 100.00% - 3480/3480\n",
      "Folder: TEDx\n",
      "Folder TEDx: [|-------------------------------------------------] 3.84% - 302/7859Request not ok on: https://amara.org/en/videos/6dRtKYPAV34Z/info/how-to-use-creative-writing-to-bear-witness/\n",
      "Folder TEDx: [|||||---------------------------------------------] 11.83% - 930/7859Request not ok on: https://amara.org/en/videos/p3luoRcj9HUm/info/how-uncomfortable-conversations-can-save-lives/\n",
      "Folder TEDx: [||||||||------------------------------------------] 17.56% - 1380/7859Request not ok on: https://amara.org/en/videos/T2u54c2V8MFJ/info/can-a-spade-teach-something-to-an-iphone/\n",
      "Folder TEDx: [||||||||------------------------------------------] 17.60% - 1383/7859Request not ok on: https://amara.org/en/videos/TDBlayswKYDE/info/discernment-in-the-era-of-fake-news/\n",
      "Folder TEDx: [|||||||||||||||||||||||||||||||||||||-------------] 74.73% - 5873/7859"
     ]
    },
    {
     "name": "stderr",
     "output_type": "stream",
     "text": [
      "IOPub message rate exceeded.\n",
      "The notebook server will temporarily stop sending output\n",
      "to the client in order to avoid crashing it.\n",
      "To change this limit, set the config variable\n",
      "`--NotebookApp.iopub_msg_rate_limit`.\n",
      "\n",
      "Current values:\n",
      "NotebookApp.iopub_msg_rate_limit=1000.0 (msgs/sec)\n",
      "NotebookApp.rate_limit_window=3.0 (secs)\n",
      "\n"
     ]
    },
    {
     "name": "stdout",
     "output_type": "stream",
     "text": [
      "Folder TEDx: [||||||||||||||||||||||||||||||||||||||||||||||||||] 100.00% - 7859/7859\n",
      "Folder: TED-ED\n",
      "Folder TED-ED: [||||||||||||||||||||||||||||||||||||||||||||||||||] 100.00% - 489/489\n"
     ]
    }
   ],
   "source": [
    "for folder in folders:\n",
    "    print(\"Folder:\", folder)\n",
    "    dict_data = {}\n",
    "    with open(f\"{folder}/{json_file}\", \"r\") as f:\n",
    "        dict_data = json.load(f)\n",
    "    tot = len(dict_data)\n",
    "    count = 0\n",
    "    if tot != 0:\n",
    "        progress_bar(count, f\"Folder {folder}\", tot=tot)\n",
    "        for entry in dict_data.items():\n",
    "            save_audio(entry, folder)\n",
    "            count += 1\n",
    "            progress_bar(count, f\"Folder {folder}\", tot=tot)"
   ]
  },
  {
   "cell_type": "markdown",
   "metadata": {},
   "source": [
    "## Talk IDs"
   ]
  },
  {
   "cell_type": "markdown",
   "metadata": {},
   "source": [
    "TED is no longer using Amara.org (since 31/12/2020) and Amara.org does not provide the talk id\n",
    "\n",
    "So, search for the title on TED.com and find the id."
   ]
  },
  {
   "cell_type": "code",
   "execution_count": 20,
   "metadata": {},
   "outputs": [],
   "source": [
    "id_file = \"talk_id.csv\"\n",
    "amara_to_ted = \"amara_to_ted.csv\"\n",
    "data_folder = \"/media/usb1/Backup - Computer/DKE/Thesis_data/Amara/{}\"  # might change, add folder to get each set\n",
    "search_url = \"https://www.ted.com/search?q={}\"\n",
    "ted = \"https://www.ted.com{}\"\n",
    "script_query = {\"data-spec\":\"q\"}\n",
    "json_extract = re.compile(\"\\{.*\\}\")"
   ]
  },
  {
   "cell_type": "code",
   "execution_count": 21,
   "metadata": {},
   "outputs": [],
   "source": [
    "def clean_title(title):\n",
    "    # ? and ! seems fine\n",
    "    return title.strip().replace(\" \", \"+\").replace(\"/\", \"+\")"
   ]
  },
  {
   "cell_type": "code",
   "execution_count": 22,
   "metadata": {},
   "outputs": [],
   "source": [
    "def search(title):\n",
    "    \"\"\"Search the title on TED.com and return the url of the page\"\"\"\n",
    "    sc = 429 # too many requests \n",
    "    url = \"\"\n",
    "    title = clean_title(title)\n",
    "    try:\n",
    "        while sc == 429:\n",
    "            r = requests.get(search_url.format(title))\n",
    "            sc = r.status_code\n",
    "            if r.ok:\n",
    "                html = BeautifulSoup(r.text)\n",
    "                results = html.find_all(attrs={\"class\": \"h7 m4\"})\n",
    "                if len(results) != 0:  # some results\n",
    "                    result = results[0].find(\"a\")\n",
    "                    if result is not None:  # the result has a link\n",
    "                        link = result.attrs.get(\"href\")\n",
    "                        if link is not None:  # the link has actually a url\n",
    "                            url = ted.format(link)\n",
    "            if sc == 429:\n",
    "                time.sleep(5)\n",
    "    except requests.TooManyRedirects:\n",
    "        print(\"Too many redirects:\", search_url.format(title))\n",
    "    return url\n",
    "\n",
    "def extract_id(url):\n",
    "    \"\"\"Find the talk id given the url from TED.com\"\"\"    \n",
    "    #ret_data = []\n",
    "    sc = 429\n",
    "    talk_id = None\n",
    "    status = True\n",
    "    while sc == 429:\n",
    "        r = requests.get(url)\n",
    "        sc = r.status_code\n",
    "        if r.ok:\n",
    "            html = BeautifulSoup(r.text)\n",
    "            query = html.find(\"script\", attrs=script_query)\n",
    "            if query is not None and len(query.contents) != 0:\n",
    "                # print(\"Query found\")\n",
    "                span = json_extract.search(query.contents[0])            \n",
    "                video_data = json.loads(query.contents[0][span.start(): span.end()])\n",
    "                try:\n",
    "                    video_data = video_data[\"__INITIAL_DATA__\"][\"talks\"][0]\n",
    "                    talk_id = video_data.get(\"id\")                    \n",
    "                    #if talk_id is None:\n",
    "                    #    talk_id = video_data[\"talks\"][0].get(\"id\")\n",
    "                except KeyError as err:\n",
    "                    print(\"KeyError:\", err.args[0])\n",
    "                    print(r.url)\n",
    "                    status = False\n",
    "                except TypeError:\n",
    "                    print(\"Invalid query\", r.url)                \n",
    "                    status = False\n",
    "            else:\n",
    "                print(\"Failed to find the query:\", r.url)\n",
    "                status = False\n",
    "        #else:\n",
    "        #    print(\"Request not OK\")\n",
    "        if sc == 429:\n",
    "            time.sleep(5)    \n",
    "    return status, talk_id"
   ]
  },
  {
   "cell_type": "code",
   "execution_count": 56,
   "metadata": {},
   "outputs": [
    {
     "name": "stdout",
     "output_type": "stream",
     "text": [
      "Folder: TED\n",
      "Video: [||||||||||||||||||||||||||||||||||||||||||||||||||] 100.00% - 3480/3480\n",
      "\n",
      "Folder: TEDx\n",
      "Video: [||||||||||||||||||||||||||||||||||||||||||||||||||] 100.00% - 7859/7859\n",
      "\n",
      "Folder: TED-ED\n",
      "Video: [||||||||||||||||||||||||||||||||||||||||||||||||||] 100.00% - 489/489\n",
      "\n",
      "Folder: TED-Translator\n",
      "Video: [||||||||||||||||||||||||||||||||||||||||||||||||||] 100.00% - 16/16\n",
      "\n",
      "Folder: TED-Series\n",
      "Video: [||||||||||||||||||||||||||||||||||||||||||||||||||] 100.00% - 52/52\n",
      "\n"
     ]
    }
   ],
   "source": [
    "a2t = pd.DataFrame(columns=[\"amara\", \"ted\"])\n",
    "if file_exists(amara_to_ted):\n",
    "    a2t = pd.read_csv(amara_to_ted)\n",
    "    a2t.drop('Unnamed: 0', axis=1, inplace=True)\n",
    "\n",
    "# get TED.com urls\n",
    "for folder in folders:\n",
    "    print(\"Folder:\", folder)\n",
    "    data = data_folder.format(folder) + \"/\" + json_file\n",
    "    data_dict = {}\n",
    "    with open(data) as f:\n",
    "        data_dict = json.load(f)\n",
    "    tot = len(data_dict)\n",
    "    i = 0\n",
    "    progress_bar(i, \"Video\", tot)\n",
    "    for amara_url, video_data in data_dict.items():\n",
    "        if amara_url not in a2t.amara.values:\n",
    "            title = video_data[0]\n",
    "            try:\n",
    "                ted_url = search(title)\n",
    "            except Exception as err:\n",
    "                print(f\"Error {type(err)}:\", title)\n",
    "                print(err.args[0])\n",
    "            a2t.loc[a2t.shape[0]] = [amara_url, ted_url]\n",
    "        i += 1\n",
    "        progress_bar(i, \"Video\", tot)\n",
    "    print()"
   ]
  },
  {
   "cell_type": "code",
   "execution_count": 57,
   "metadata": {},
   "outputs": [],
   "source": [
    "a2t.to_csv(amara_to_ted)"
   ]
  },
  {
   "cell_type": "code",
   "execution_count": 53,
   "metadata": {},
   "outputs": [
    {
     "name": "stdout",
     "output_type": "stream",
     "text": [
      "Id: [||||||||||||||||||||||||||||||||||||||||||||||||||] 100.00% - 11896/11896\n"
     ]
    }
   ],
   "source": [
    "tid = pd.DataFrame(columns=[\"amara\", \"id\"])\n",
    "\n",
    "if file_exists(id_file):\n",
    "    tid = pd.read_csv(id_file)\n",
    "    tid.drop('Unnamed: 0', axis=1, inplace=True)\n",
    "\n",
    "tot = len(a2t)\n",
    "i = 0\n",
    "progress_bar(i, \"Id\", tot)\n",
    "# TODO\n",
    "for n, urls in a2t.iterrows():\n",
    "    if urls.amara not in tid.amara.values:\n",
    "        id_ = None\n",
    "        try:\n",
    "            if urls.ted == urls.ted \\\n",
    "            and not urls.ted.startswith(ted.format(\"/playlists\")) \\\n",
    "            and not urls.ted.startswith(ted.format(\"/speakers\")) \\\n",
    "            and not urls.ted.startswith(ted.format(\"/participate\")) \\\n",
    "            and not urls.ted.startswith(\"https://www.ted.comhttps\") and not urls.ted.startswith(\"https://www.ted.comtedx\") and urls.ted != '':\n",
    "                status, id_ = extract_id(urls.ted)                \n",
    "        except Exception as err:\n",
    "            print(f\"Error {type(err)}:\", urls.amara)\n",
    "            print(err.args[0])\n",
    "        if status:                \n",
    "            tid.loc[tid.shape[0]] = [urls.amara, id_]            \n",
    "    i += 1\n",
    "    progress_bar(i, \"Id\", tot)    "
   ]
  },
  {
   "cell_type": "code",
   "execution_count": 55,
   "metadata": {},
   "outputs": [],
   "source": [
    "tid.to_csv(id_file)"
   ]
  },
  {
   "cell_type": "code",
   "execution_count": 54,
   "metadata": {},
   "outputs": [
    {
     "data": {
      "text/html": [
       "<div>\n",
       "<style scoped>\n",
       "    .dataframe tbody tr th:only-of-type {\n",
       "        vertical-align: middle;\n",
       "    }\n",
       "\n",
       "    .dataframe tbody tr th {\n",
       "        vertical-align: top;\n",
       "    }\n",
       "\n",
       "    .dataframe thead th {\n",
       "        text-align: right;\n",
       "    }\n",
       "</style>\n",
       "<table border=\"1\" class=\"dataframe\">\n",
       "  <thead>\n",
       "    <tr style=\"text-align: right;\">\n",
       "      <th></th>\n",
       "      <th>amara</th>\n",
       "      <th>id</th>\n",
       "    </tr>\n",
       "  </thead>\n",
       "  <tbody>\n",
       "    <tr>\n",
       "      <th>0</th>\n",
       "      <td>https://amara.org/en/videos/3mxy1kOnFhr4/info/...</td>\n",
       "      <td>364.0</td>\n",
       "    </tr>\n",
       "    <tr>\n",
       "      <th>1</th>\n",
       "      <td>https://amara.org/en/videos/ElAfn2xgEtKc/info/...</td>\n",
       "      <td>129.0</td>\n",
       "    </tr>\n",
       "    <tr>\n",
       "      <th>2</th>\n",
       "      <td>https://amara.org/en/videos/BzItzJ9Tigui/info/...</td>\n",
       "      <td>377.0</td>\n",
       "    </tr>\n",
       "    <tr>\n",
       "      <th>3</th>\n",
       "      <td>https://amara.org/en/videos/SRhk9JomSHTA/info/...</td>\n",
       "      <td>157.0</td>\n",
       "    </tr>\n",
       "    <tr>\n",
       "      <th>4</th>\n",
       "      <td>https://amara.org/en/videos/DEaTk2z2AmjO/info/...</td>\n",
       "      <td>394.0</td>\n",
       "    </tr>\n",
       "    <tr>\n",
       "      <th>...</th>\n",
       "      <td>...</td>\n",
       "      <td>...</td>\n",
       "    </tr>\n",
       "    <tr>\n",
       "      <th>10783</th>\n",
       "      <td>https://amara.org/en/videos/0DnYpBzgZ4h9/info/...</td>\n",
       "      <td>NaN</td>\n",
       "    </tr>\n",
       "    <tr>\n",
       "      <th>10784</th>\n",
       "      <td>https://amara.org/en/videos/HWylMwsCEh7v/info/...</td>\n",
       "      <td>NaN</td>\n",
       "    </tr>\n",
       "    <tr>\n",
       "      <th>10785</th>\n",
       "      <td>https://amara.org/en/videos/SYjsyT7qCU7s/info/...</td>\n",
       "      <td>NaN</td>\n",
       "    </tr>\n",
       "    <tr>\n",
       "      <th>10786</th>\n",
       "      <td>https://amara.org/en/videos/WA8q6uJ2RQxC/info/...</td>\n",
       "      <td>NaN</td>\n",
       "    </tr>\n",
       "    <tr>\n",
       "      <th>10787</th>\n",
       "      <td>https://amara.org/en/videos/D2VLJuPpkCGF/info/...</td>\n",
       "      <td>NaN</td>\n",
       "    </tr>\n",
       "  </tbody>\n",
       "</table>\n",
       "<p>10788 rows × 2 columns</p>\n",
       "</div>"
      ],
      "text/plain": [
       "                                                   amara     id\n",
       "0      https://amara.org/en/videos/3mxy1kOnFhr4/info/...  364.0\n",
       "1      https://amara.org/en/videos/ElAfn2xgEtKc/info/...  129.0\n",
       "2      https://amara.org/en/videos/BzItzJ9Tigui/info/...  377.0\n",
       "3      https://amara.org/en/videos/SRhk9JomSHTA/info/...  157.0\n",
       "4      https://amara.org/en/videos/DEaTk2z2AmjO/info/...  394.0\n",
       "...                                                  ...    ...\n",
       "10783  https://amara.org/en/videos/0DnYpBzgZ4h9/info/...    NaN\n",
       "10784  https://amara.org/en/videos/HWylMwsCEh7v/info/...    NaN\n",
       "10785  https://amara.org/en/videos/SYjsyT7qCU7s/info/...    NaN\n",
       "10786  https://amara.org/en/videos/WA8q6uJ2RQxC/info/...    NaN\n",
       "10787  https://amara.org/en/videos/D2VLJuPpkCGF/info/...    NaN\n",
       "\n",
       "[10788 rows x 2 columns]"
      ]
     },
     "execution_count": 54,
     "metadata": {},
     "output_type": "execute_result"
    }
   ],
   "source": [
    "tid"
   ]
  },
  {
   "cell_type": "code",
   "execution_count": 39,
   "metadata": {},
   "outputs": [
    {
     "data": {
      "text/plain": [
       "5739"
      ]
     },
     "execution_count": 39,
     "metadata": {},
     "output_type": "execute_result"
    }
   ],
   "source": [
    "a2t.amara[a2t.amara == \"https://amara.org/en/videos/Jnvr6WtxuYg2/info/dare-to-eat-insects-jakob-lewin-rukov-tedxebs/\"].index[0]"
   ]
  },
  {
   "cell_type": "code",
   "execution_count": 40,
   "metadata": {},
   "outputs": [
    {
     "data": {
      "text/plain": [
       "amara    https://amara.org/en/videos/Jnvr6WtxuYg2/info/...\n",
       "ted                   https://www.ted.comtedx/events/19848\n",
       "Name: 5739, dtype: object"
      ]
     },
     "execution_count": 40,
     "metadata": {},
     "output_type": "execute_result"
    }
   ],
   "source": [
    "a2t.loc[5739]"
   ]
  },
  {
   "cell_type": "code",
   "execution_count": 1,
   "metadata": {},
   "outputs": [
    {
     "ename": "NameError",
     "evalue": "name 'tid' is not defined",
     "output_type": "error",
     "traceback": [
      "\u001b[0;31m---------------------------------------------------------------------------\u001b[0m",
      "\u001b[0;31mNameError\u001b[0m                                 Traceback (most recent call last)",
      "\u001b[0;32m<ipython-input-1-8ddfa126aded>\u001b[0m in \u001b[0;36m<module>\u001b[0;34m\u001b[0m\n\u001b[0;32m----> 1\u001b[0;31m \u001b[0mtid\u001b[0m\u001b[0;34m\u001b[0m\u001b[0;34m\u001b[0m\u001b[0m\n\u001b[0m",
      "\u001b[0;31mNameError\u001b[0m: name 'tid' is not defined"
     ]
    }
   ],
   "source": [
    "tid"
   ]
  },
  {
   "cell_type": "code",
   "execution_count": null,
   "metadata": {},
   "outputs": [],
   "source": []
  }
 ],
 "metadata": {
  "kernelspec": {
   "display_name": "Python 3",
   "language": "python",
   "name": "python3"
  },
  "language_info": {
   "codemirror_mode": {
    "name": "ipython",
    "version": 3
   },
   "file_extension": ".py",
   "mimetype": "text/x-python",
   "name": "python",
   "nbconvert_exporter": "python",
   "pygments_lexer": "ipython3",
   "version": "3.8.5"
  }
 },
 "nbformat": 4,
 "nbformat_minor": 4
}
