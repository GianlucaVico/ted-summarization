{
 "cells": [
  {
   "cell_type": "markdown",
   "id": "sound-understanding",
   "metadata": {},
   "source": [
    "# Resample and save the  audio files"
   ]
  },
  {
   "cell_type": "code",
   "execution_count": 1,
   "id": "unauthorized-anime",
   "metadata": {},
   "outputs": [
    {
     "name": "stderr",
     "output_type": "stream",
     "text": [
      "/home/gianluca/anaconda3/envs/thesis/lib/python3.8/site-packages/torchaudio/backend/utils.py:53: UserWarning: \"sox\" backend is being deprecated. The default backend will be changed to \"sox_io\" backend in 0.8.0 and \"sox\" backend will be removed in 0.9.0. Please migrate to \"sox_io\" backend. Please refer to https://github.com/pytorch/audio/issues/903 for the detail.\n",
      "  warnings.warn(\n"
     ]
    }
   ],
   "source": [
    "import sys\n",
    "sys.path.append(\"../\")\n",
    "\n",
    "import torch\n",
    "from tools import progress_bar\n",
    "import audio_tools\n",
    "import glob\n",
    "import torchaudio"
   ]
  },
  {
   "cell_type": "code",
   "execution_count": 2,
   "id": "fifth-disco",
   "metadata": {},
   "outputs": [],
   "source": [
    "folders = [\n",
    "    #\"/media/gianluca/RASPPI/Backup - Computer/DKE/Thesis_data/Amara/TEDx\",\n",
    "    #\"/media/gianluca/RASPPI/Backup - Computer/DKE/Thesis_data/Amara/TED-Translator\",\n",
    "    \"/media/gianluca/RASPPI/Backup - Computer/DKE/Thesis_data/Amara/TED\",\n",
    "    #\"/media/gianluca/RASPPI/Backup - Computer/DKE/Thesis_data/Amara/TED-ED\",\n",
    "    #\"/media/gianluca/RASPPI/Backup - Computer/DKE/Thesis_data/Amara/TED-Series\"\n",
    "]\n",
    "rate = 16000"
   ]
  },
  {
   "cell_type": "code",
   "execution_count": 3,
   "id": "drawn-installation",
   "metadata": {},
   "outputs": [],
   "source": [
    "r = audio_tools.Resampler([44100], rate)"
   ]
  },
  {
   "cell_type": "code",
   "execution_count": 4,
   "id": "accessible-position",
   "metadata": {},
   "outputs": [],
   "source": [
    "def do_work(path, resampler):\n",
    "    t, s = torchaudio.load(path)\n",
    "    if s != rate:\n",
    "        t = r.resample(t, s)\n",
    "        torchaudio.save(path, t, rate)"
   ]
  },
  {
   "cell_type": "code",
   "execution_count": 5,
   "id": "desperate-substance",
   "metadata": {},
   "outputs": [
    {
     "name": "stdout",
     "output_type": "stream",
     "text": [
      "TED: [||||||||||||||||||||||||||||||||||||||||||||||||||] 100.00% - 3480/3480\n"
     ]
    }
   ],
   "source": [
    "for f in folders:\n",
    "    f_name = f.split(\"/\")[-1]\n",
    "    paths = glob.glob(f\"{f}/*.wav\")\n",
    "    if len(paths) != 0:\n",
    "        progress_bar(0, f_name, len(paths))\n",
    "        for i,j in enumerate(paths):\n",
    "            do_work(j, r)\n",
    "            progress_bar(i+1, f_name, len(paths))"
   ]
  },
  {
   "cell_type": "code",
   "execution_count": null,
   "id": "registered-millennium",
   "metadata": {},
   "outputs": [],
   "source": []
  }
 ],
 "metadata": {
  "kernelspec": {
   "display_name": "Python 3",
   "language": "python",
   "name": "python3"
  },
  "language_info": {
   "codemirror_mode": {
    "name": "ipython",
    "version": 3
   },
   "file_extension": ".py",
   "mimetype": "text/x-python",
   "name": "python",
   "nbconvert_exporter": "python",
   "pygments_lexer": "ipython3",
   "version": "3.8.5"
  }
 },
 "nbformat": 4,
 "nbformat_minor": 5
}
