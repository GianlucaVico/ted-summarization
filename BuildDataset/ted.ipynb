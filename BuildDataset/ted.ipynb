{
 "cells": [
  {
   "cell_type": "markdown",
   "metadata": {},
   "source": [
    "# Get data from ted.com"
   ]
  },
  {
   "cell_type": "raw",
   "metadata": {},
   "source": [
    "Starting from the list of video, collect the url of each video and save to a file.\n",
    "\n",
    "Find the script with the query: from there extract title, description and video url.\n",
    "\n",
    "\n",
    "title: __INITIAL_DATA__ -> talks -> 0 -> player_talks -> 0 -> title \n",
    "description: __INITIAL_DATA__ -> description \n",
    "video url: __INITIAL_DATA__ -> talks -> 0 -> player_talks -> 0 -> resources -> h264 -> 0 -> file\n",
    "\n",
    "transcript: https://ted2srt.org/api/talks/[video id]/transcripts/download/[srt | vtt | txt]?lang=en\n",
    "video id: __INITIAL_DATA__ -> current_talk"
   ]
  },
  {
   "cell_type": "markdown",
   "metadata": {},
   "source": [
    "## Setup"
   ]
  },
  {
   "cell_type": "code",
   "execution_count": 1,
   "metadata": {},
   "outputs": [],
   "source": [
    "import sys\n",
    "sys.path.append(\"../\")\n",
    "sys.path.append(\"../../\") # to import tools\n",
    "import os\n",
    "import requests\n",
    "from bs4 import BeautifulSoup\n",
    "from tools import progress_bar, make_name, file_exists, name_to_url\n",
    "import json\n",
    "from datetime import datetime\n",
    "import re\n",
    "import subprocess\n",
    "import time\n",
    "import glob\n",
    "import pandas as pd\n",
    "import numpy as np"
   ]
  },
  {
   "cell_type": "code",
   "execution_count": 2,
   "metadata": {},
   "outputs": [],
   "source": [
    "script_query = {\"data-spec\":\"q\"}\n",
    "json_extract = re.compile(\"\\{.*\\}\")\n",
    "transcript_service = \"https://ted2srt.org/api/talks/{}/transcripts/download/{}?lang=en\" # video id, format \n",
    "list_video = \"https://www.ted.com/talks?page={}&sort=newest&language=en\"\n",
    "pages = 121 # 1 - 121 included\n",
    "\n",
    "video_file = \"videos.txt\" # each line: video url\n",
    "folder = \"Data\"\n",
    "json_file = \"data_urls.json\" # ted url : [title, description, transcript, video url]\n",
    "base_url = \"https://www.ted.com\"\n",
    "fmt = \"srt\""
   ]
  },
  {
   "cell_type": "markdown",
   "metadata": {},
   "source": [
    "## Find video URLs"
   ]
  },
  {
   "cell_type": "code",
   "execution_count": 3,
   "metadata": {},
   "outputs": [],
   "source": [
    "def extraxt_urls(r):\n",
    "    \"\"\"\n",
    "    Args:\n",
    "        r: request for a page containing the list of videos\n",
    "    Returns:\n",
    "        status, list of video urls\n",
    "    \"\"\"\n",
    "    if r.ok:\n",
    "        html = BeautifulSoup(r.text)\n",
    "        links = html.find_all(\"a\", attrs={\"class\": \"ga-link\", \"data-ga-context\":\"talks\"}) # 2 links for each video\n",
    "        return True, list(set([f\"{base_url}{i.attrs['href']}\" for i in links]))\n",
    "    else:\n",
    "        return False, []\n",
    "\n",
    "def load_video_file(file):\n",
    "    \"\"\"Read list of video url\"\"\"\n",
    "    urls = []\n",
    "    with open(file, \"r\") as f:\n",
    "        urls = f.readlines()\n",
    "    return urls\n",
    "\n",
    "def save_video_file(file, urls):\n",
    "    urls = set(urls)\n",
    "    with open(file, \"w\") as f:\n",
    "        for url in urls:\n",
    "            f.write(f\"{url}\\n\") "
   ]
  },
  {
   "cell_type": "code",
   "execution_count": 9,
   "metadata": {},
   "outputs": [
    {
     "name": "stdout",
     "output_type": "stream",
     "text": [
      "URLs loaded\n"
     ]
    }
   ],
   "source": [
    "videos = []\n",
    "if file_exists(video_file):\n",
    "    videos = load_video_file(video_file)\n",
    "    print(\"URLs loaded\")\n",
    "else:\n",
    "    print(\"URLs not found\")"
   ]
  },
  {
   "cell_type": "code",
   "execution_count": 21,
   "metadata": {
    "collapsed": true,
    "jupyter": {
     "outputs_hidden": true
    }
   },
   "outputs": [
    {
     "name": "stdout",
     "output_type": "stream",
     "text": [
      "Page: [--------------------------------------------------] 0.00% - 0/12136\n",
      "Page: [--------------------------------------------------] 0.83% - 1/12136\n",
      "Page: [--------------------------------------------------] 1.65% - 2/12136\n",
      "Page: [|-------------------------------------------------] 2.48% - 3/12136\n",
      "Page: [|-------------------------------------------------] 3.31% - 4/12136\n",
      "Page: [||------------------------------------------------] 4.13% - 5/121"
     ]
    },
    {
     "ename": "KeyboardInterrupt",
     "evalue": "",
     "output_type": "error",
     "traceback": [
      "\u001b[0;31m---------------------------------------------------------------------------\u001b[0m",
      "\u001b[0;31mKeyboardInterrupt\u001b[0m                         Traceback (most recent call last)",
      "\u001b[0;32m<ipython-input-21-34039980a6dc>\u001b[0m in \u001b[0;36m<module>\u001b[0;34m\u001b[0m\n\u001b[1;32m      4\u001b[0m \u001b[0;32mfor\u001b[0m \u001b[0mpage\u001b[0m \u001b[0;32min\u001b[0m \u001b[0mto_do\u001b[0m\u001b[0;34m:\u001b[0m\u001b[0;34m\u001b[0m\u001b[0;34m\u001b[0m\u001b[0m\n\u001b[1;32m      5\u001b[0m     \u001b[0;32mtry\u001b[0m\u001b[0;34m:\u001b[0m\u001b[0;34m\u001b[0m\u001b[0;34m\u001b[0m\u001b[0m\n\u001b[0;32m----> 6\u001b[0;31m         \u001b[0mr\u001b[0m \u001b[0;34m=\u001b[0m \u001b[0mrequests\u001b[0m\u001b[0;34m.\u001b[0m\u001b[0mget\u001b[0m\u001b[0;34m(\u001b[0m\u001b[0mlist_video\u001b[0m\u001b[0;34m.\u001b[0m\u001b[0mformat\u001b[0m\u001b[0;34m(\u001b[0m\u001b[0mpage\u001b[0m\u001b[0;34m)\u001b[0m\u001b[0;34m)\u001b[0m\u001b[0;34m\u001b[0m\u001b[0;34m\u001b[0m\u001b[0m\n\u001b[0m\u001b[1;32m      7\u001b[0m         \u001b[0ms\u001b[0m\u001b[0;34m,\u001b[0m \u001b[0ml\u001b[0m \u001b[0;34m=\u001b[0m \u001b[0mextraxt_urls\u001b[0m\u001b[0;34m(\u001b[0m\u001b[0mr\u001b[0m\u001b[0;34m)\u001b[0m\u001b[0;34m\u001b[0m\u001b[0;34m\u001b[0m\u001b[0m\n\u001b[1;32m      8\u001b[0m         \u001b[0;32mif\u001b[0m \u001b[0ms\u001b[0m\u001b[0;34m:\u001b[0m\u001b[0;34m\u001b[0m\u001b[0;34m\u001b[0m\u001b[0m\n",
      "\u001b[0;32m~/anaconda3/envs/thesis/lib/python3.8/site-packages/requests/api.py\u001b[0m in \u001b[0;36mget\u001b[0;34m(url, params, **kwargs)\u001b[0m\n\u001b[1;32m     74\u001b[0m \u001b[0;34m\u001b[0m\u001b[0m\n\u001b[1;32m     75\u001b[0m     \u001b[0mkwargs\u001b[0m\u001b[0;34m.\u001b[0m\u001b[0msetdefault\u001b[0m\u001b[0;34m(\u001b[0m\u001b[0;34m'allow_redirects'\u001b[0m\u001b[0;34m,\u001b[0m \u001b[0;32mTrue\u001b[0m\u001b[0;34m)\u001b[0m\u001b[0;34m\u001b[0m\u001b[0;34m\u001b[0m\u001b[0m\n\u001b[0;32m---> 76\u001b[0;31m     \u001b[0;32mreturn\u001b[0m \u001b[0mrequest\u001b[0m\u001b[0;34m(\u001b[0m\u001b[0;34m'get'\u001b[0m\u001b[0;34m,\u001b[0m \u001b[0murl\u001b[0m\u001b[0;34m,\u001b[0m \u001b[0mparams\u001b[0m\u001b[0;34m=\u001b[0m\u001b[0mparams\u001b[0m\u001b[0;34m,\u001b[0m \u001b[0;34m**\u001b[0m\u001b[0mkwargs\u001b[0m\u001b[0;34m)\u001b[0m\u001b[0;34m\u001b[0m\u001b[0;34m\u001b[0m\u001b[0m\n\u001b[0m\u001b[1;32m     77\u001b[0m \u001b[0;34m\u001b[0m\u001b[0m\n\u001b[1;32m     78\u001b[0m \u001b[0;34m\u001b[0m\u001b[0m\n",
      "\u001b[0;32m~/anaconda3/envs/thesis/lib/python3.8/site-packages/requests/api.py\u001b[0m in \u001b[0;36mrequest\u001b[0;34m(method, url, **kwargs)\u001b[0m\n\u001b[1;32m     59\u001b[0m     \u001b[0;31m# cases, and look like a memory leak in others.\u001b[0m\u001b[0;34m\u001b[0m\u001b[0;34m\u001b[0m\u001b[0;34m\u001b[0m\u001b[0m\n\u001b[1;32m     60\u001b[0m     \u001b[0;32mwith\u001b[0m \u001b[0msessions\u001b[0m\u001b[0;34m.\u001b[0m\u001b[0mSession\u001b[0m\u001b[0;34m(\u001b[0m\u001b[0;34m)\u001b[0m \u001b[0;32mas\u001b[0m \u001b[0msession\u001b[0m\u001b[0;34m:\u001b[0m\u001b[0;34m\u001b[0m\u001b[0;34m\u001b[0m\u001b[0m\n\u001b[0;32m---> 61\u001b[0;31m         \u001b[0;32mreturn\u001b[0m \u001b[0msession\u001b[0m\u001b[0;34m.\u001b[0m\u001b[0mrequest\u001b[0m\u001b[0;34m(\u001b[0m\u001b[0mmethod\u001b[0m\u001b[0;34m=\u001b[0m\u001b[0mmethod\u001b[0m\u001b[0;34m,\u001b[0m \u001b[0murl\u001b[0m\u001b[0;34m=\u001b[0m\u001b[0murl\u001b[0m\u001b[0;34m,\u001b[0m \u001b[0;34m**\u001b[0m\u001b[0mkwargs\u001b[0m\u001b[0;34m)\u001b[0m\u001b[0;34m\u001b[0m\u001b[0;34m\u001b[0m\u001b[0m\n\u001b[0m\u001b[1;32m     62\u001b[0m \u001b[0;34m\u001b[0m\u001b[0m\n\u001b[1;32m     63\u001b[0m \u001b[0;34m\u001b[0m\u001b[0m\n",
      "\u001b[0;32m~/anaconda3/envs/thesis/lib/python3.8/site-packages/requests/sessions.py\u001b[0m in \u001b[0;36mrequest\u001b[0;34m(self, method, url, params, data, headers, cookies, files, auth, timeout, allow_redirects, proxies, hooks, stream, verify, cert, json)\u001b[0m\n\u001b[1;32m    540\u001b[0m         }\n\u001b[1;32m    541\u001b[0m         \u001b[0msend_kwargs\u001b[0m\u001b[0;34m.\u001b[0m\u001b[0mupdate\u001b[0m\u001b[0;34m(\u001b[0m\u001b[0msettings\u001b[0m\u001b[0;34m)\u001b[0m\u001b[0;34m\u001b[0m\u001b[0;34m\u001b[0m\u001b[0m\n\u001b[0;32m--> 542\u001b[0;31m         \u001b[0mresp\u001b[0m \u001b[0;34m=\u001b[0m \u001b[0mself\u001b[0m\u001b[0;34m.\u001b[0m\u001b[0msend\u001b[0m\u001b[0;34m(\u001b[0m\u001b[0mprep\u001b[0m\u001b[0;34m,\u001b[0m \u001b[0;34m**\u001b[0m\u001b[0msend_kwargs\u001b[0m\u001b[0;34m)\u001b[0m\u001b[0;34m\u001b[0m\u001b[0;34m\u001b[0m\u001b[0m\n\u001b[0m\u001b[1;32m    543\u001b[0m \u001b[0;34m\u001b[0m\u001b[0m\n\u001b[1;32m    544\u001b[0m         \u001b[0;32mreturn\u001b[0m \u001b[0mresp\u001b[0m\u001b[0;34m\u001b[0m\u001b[0;34m\u001b[0m\u001b[0m\n",
      "\u001b[0;32m~/anaconda3/envs/thesis/lib/python3.8/site-packages/requests/sessions.py\u001b[0m in \u001b[0;36msend\u001b[0;34m(self, request, **kwargs)\u001b[0m\n\u001b[1;32m    653\u001b[0m \u001b[0;34m\u001b[0m\u001b[0m\n\u001b[1;32m    654\u001b[0m         \u001b[0;31m# Send the request\u001b[0m\u001b[0;34m\u001b[0m\u001b[0;34m\u001b[0m\u001b[0;34m\u001b[0m\u001b[0m\n\u001b[0;32m--> 655\u001b[0;31m         \u001b[0mr\u001b[0m \u001b[0;34m=\u001b[0m \u001b[0madapter\u001b[0m\u001b[0;34m.\u001b[0m\u001b[0msend\u001b[0m\u001b[0;34m(\u001b[0m\u001b[0mrequest\u001b[0m\u001b[0;34m,\u001b[0m \u001b[0;34m**\u001b[0m\u001b[0mkwargs\u001b[0m\u001b[0;34m)\u001b[0m\u001b[0;34m\u001b[0m\u001b[0;34m\u001b[0m\u001b[0m\n\u001b[0m\u001b[1;32m    656\u001b[0m \u001b[0;34m\u001b[0m\u001b[0m\n\u001b[1;32m    657\u001b[0m         \u001b[0;31m# Total elapsed time of the request (approximately)\u001b[0m\u001b[0;34m\u001b[0m\u001b[0;34m\u001b[0m\u001b[0;34m\u001b[0m\u001b[0m\n",
      "\u001b[0;32m~/anaconda3/envs/thesis/lib/python3.8/site-packages/requests/adapters.py\u001b[0m in \u001b[0;36msend\u001b[0;34m(self, request, stream, timeout, verify, cert, proxies)\u001b[0m\n\u001b[1;32m    437\u001b[0m         \u001b[0;32mtry\u001b[0m\u001b[0;34m:\u001b[0m\u001b[0;34m\u001b[0m\u001b[0;34m\u001b[0m\u001b[0m\n\u001b[1;32m    438\u001b[0m             \u001b[0;32mif\u001b[0m \u001b[0;32mnot\u001b[0m \u001b[0mchunked\u001b[0m\u001b[0;34m:\u001b[0m\u001b[0;34m\u001b[0m\u001b[0;34m\u001b[0m\u001b[0m\n\u001b[0;32m--> 439\u001b[0;31m                 resp = conn.urlopen(\n\u001b[0m\u001b[1;32m    440\u001b[0m                     \u001b[0mmethod\u001b[0m\u001b[0;34m=\u001b[0m\u001b[0mrequest\u001b[0m\u001b[0;34m.\u001b[0m\u001b[0mmethod\u001b[0m\u001b[0;34m,\u001b[0m\u001b[0;34m\u001b[0m\u001b[0;34m\u001b[0m\u001b[0m\n\u001b[1;32m    441\u001b[0m                     \u001b[0murl\u001b[0m\u001b[0;34m=\u001b[0m\u001b[0murl\u001b[0m\u001b[0;34m,\u001b[0m\u001b[0;34m\u001b[0m\u001b[0;34m\u001b[0m\u001b[0m\n",
      "\u001b[0;32m~/anaconda3/envs/thesis/lib/python3.8/site-packages/urllib3/connectionpool.py\u001b[0m in \u001b[0;36murlopen\u001b[0;34m(self, method, url, body, headers, retries, redirect, assert_same_host, timeout, pool_timeout, release_conn, chunked, body_pos, **response_kw)\u001b[0m\n\u001b[1;32m    697\u001b[0m \u001b[0;34m\u001b[0m\u001b[0m\n\u001b[1;32m    698\u001b[0m             \u001b[0;31m# Make the request on the httplib connection object.\u001b[0m\u001b[0;34m\u001b[0m\u001b[0;34m\u001b[0m\u001b[0;34m\u001b[0m\u001b[0m\n\u001b[0;32m--> 699\u001b[0;31m             httplib_response = self._make_request(\n\u001b[0m\u001b[1;32m    700\u001b[0m                 \u001b[0mconn\u001b[0m\u001b[0;34m,\u001b[0m\u001b[0;34m\u001b[0m\u001b[0;34m\u001b[0m\u001b[0m\n\u001b[1;32m    701\u001b[0m                 \u001b[0mmethod\u001b[0m\u001b[0;34m,\u001b[0m\u001b[0;34m\u001b[0m\u001b[0;34m\u001b[0m\u001b[0m\n",
      "\u001b[0;32m~/anaconda3/envs/thesis/lib/python3.8/site-packages/urllib3/connectionpool.py\u001b[0m in \u001b[0;36m_make_request\u001b[0;34m(self, conn, method, url, timeout, chunked, **httplib_request_kw)\u001b[0m\n\u001b[1;32m    443\u001b[0m                     \u001b[0;31m# Python 3 (including for exceptions like SystemExit).\u001b[0m\u001b[0;34m\u001b[0m\u001b[0;34m\u001b[0m\u001b[0;34m\u001b[0m\u001b[0m\n\u001b[1;32m    444\u001b[0m                     \u001b[0;31m# Otherwise it looks like a bug in the code.\u001b[0m\u001b[0;34m\u001b[0m\u001b[0;34m\u001b[0m\u001b[0;34m\u001b[0m\u001b[0m\n\u001b[0;32m--> 445\u001b[0;31m                     \u001b[0msix\u001b[0m\u001b[0;34m.\u001b[0m\u001b[0mraise_from\u001b[0m\u001b[0;34m(\u001b[0m\u001b[0me\u001b[0m\u001b[0;34m,\u001b[0m \u001b[0;32mNone\u001b[0m\u001b[0;34m)\u001b[0m\u001b[0;34m\u001b[0m\u001b[0;34m\u001b[0m\u001b[0m\n\u001b[0m\u001b[1;32m    446\u001b[0m         \u001b[0;32mexcept\u001b[0m \u001b[0;34m(\u001b[0m\u001b[0mSocketTimeout\u001b[0m\u001b[0;34m,\u001b[0m \u001b[0mBaseSSLError\u001b[0m\u001b[0;34m,\u001b[0m \u001b[0mSocketError\u001b[0m\u001b[0;34m)\u001b[0m \u001b[0;32mas\u001b[0m \u001b[0me\u001b[0m\u001b[0;34m:\u001b[0m\u001b[0;34m\u001b[0m\u001b[0;34m\u001b[0m\u001b[0m\n\u001b[1;32m    447\u001b[0m             \u001b[0mself\u001b[0m\u001b[0;34m.\u001b[0m\u001b[0m_raise_timeout\u001b[0m\u001b[0;34m(\u001b[0m\u001b[0merr\u001b[0m\u001b[0;34m=\u001b[0m\u001b[0me\u001b[0m\u001b[0;34m,\u001b[0m \u001b[0murl\u001b[0m\u001b[0;34m=\u001b[0m\u001b[0murl\u001b[0m\u001b[0;34m,\u001b[0m \u001b[0mtimeout_value\u001b[0m\u001b[0;34m=\u001b[0m\u001b[0mread_timeout\u001b[0m\u001b[0;34m)\u001b[0m\u001b[0;34m\u001b[0m\u001b[0;34m\u001b[0m\u001b[0m\n",
      "\u001b[0;32m~/anaconda3/envs/thesis/lib/python3.8/site-packages/urllib3/packages/six.py\u001b[0m in \u001b[0;36mraise_from\u001b[0;34m(value, from_value)\u001b[0m\n",
      "\u001b[0;32m~/anaconda3/envs/thesis/lib/python3.8/site-packages/urllib3/connectionpool.py\u001b[0m in \u001b[0;36m_make_request\u001b[0;34m(self, conn, method, url, timeout, chunked, **httplib_request_kw)\u001b[0m\n\u001b[1;32m    438\u001b[0m                 \u001b[0;31m# Python 3\u001b[0m\u001b[0;34m\u001b[0m\u001b[0;34m\u001b[0m\u001b[0;34m\u001b[0m\u001b[0m\n\u001b[1;32m    439\u001b[0m                 \u001b[0;32mtry\u001b[0m\u001b[0;34m:\u001b[0m\u001b[0;34m\u001b[0m\u001b[0;34m\u001b[0m\u001b[0m\n\u001b[0;32m--> 440\u001b[0;31m                     \u001b[0mhttplib_response\u001b[0m \u001b[0;34m=\u001b[0m \u001b[0mconn\u001b[0m\u001b[0;34m.\u001b[0m\u001b[0mgetresponse\u001b[0m\u001b[0;34m(\u001b[0m\u001b[0;34m)\u001b[0m\u001b[0;34m\u001b[0m\u001b[0;34m\u001b[0m\u001b[0m\n\u001b[0m\u001b[1;32m    441\u001b[0m                 \u001b[0;32mexcept\u001b[0m \u001b[0mBaseException\u001b[0m \u001b[0;32mas\u001b[0m \u001b[0me\u001b[0m\u001b[0;34m:\u001b[0m\u001b[0;34m\u001b[0m\u001b[0;34m\u001b[0m\u001b[0m\n\u001b[1;32m    442\u001b[0m                     \u001b[0;31m# Remove the TypeError from the exception chain in\u001b[0m\u001b[0;34m\u001b[0m\u001b[0;34m\u001b[0m\u001b[0;34m\u001b[0m\u001b[0m\n",
      "\u001b[0;32m~/anaconda3/envs/thesis/lib/python3.8/http/client.py\u001b[0m in \u001b[0;36mgetresponse\u001b[0;34m(self)\u001b[0m\n\u001b[1;32m   1345\u001b[0m         \u001b[0;32mtry\u001b[0m\u001b[0;34m:\u001b[0m\u001b[0;34m\u001b[0m\u001b[0;34m\u001b[0m\u001b[0m\n\u001b[1;32m   1346\u001b[0m             \u001b[0;32mtry\u001b[0m\u001b[0;34m:\u001b[0m\u001b[0;34m\u001b[0m\u001b[0;34m\u001b[0m\u001b[0m\n\u001b[0;32m-> 1347\u001b[0;31m                 \u001b[0mresponse\u001b[0m\u001b[0;34m.\u001b[0m\u001b[0mbegin\u001b[0m\u001b[0;34m(\u001b[0m\u001b[0;34m)\u001b[0m\u001b[0;34m\u001b[0m\u001b[0;34m\u001b[0m\u001b[0m\n\u001b[0m\u001b[1;32m   1348\u001b[0m             \u001b[0;32mexcept\u001b[0m \u001b[0mConnectionError\u001b[0m\u001b[0;34m:\u001b[0m\u001b[0;34m\u001b[0m\u001b[0;34m\u001b[0m\u001b[0m\n\u001b[1;32m   1349\u001b[0m                 \u001b[0mself\u001b[0m\u001b[0;34m.\u001b[0m\u001b[0mclose\u001b[0m\u001b[0;34m(\u001b[0m\u001b[0;34m)\u001b[0m\u001b[0;34m\u001b[0m\u001b[0;34m\u001b[0m\u001b[0m\n",
      "\u001b[0;32m~/anaconda3/envs/thesis/lib/python3.8/http/client.py\u001b[0m in \u001b[0;36mbegin\u001b[0;34m(self)\u001b[0m\n\u001b[1;32m    305\u001b[0m         \u001b[0;31m# read until we get a non-100 response\u001b[0m\u001b[0;34m\u001b[0m\u001b[0;34m\u001b[0m\u001b[0;34m\u001b[0m\u001b[0m\n\u001b[1;32m    306\u001b[0m         \u001b[0;32mwhile\u001b[0m \u001b[0;32mTrue\u001b[0m\u001b[0;34m:\u001b[0m\u001b[0;34m\u001b[0m\u001b[0;34m\u001b[0m\u001b[0m\n\u001b[0;32m--> 307\u001b[0;31m             \u001b[0mversion\u001b[0m\u001b[0;34m,\u001b[0m \u001b[0mstatus\u001b[0m\u001b[0;34m,\u001b[0m \u001b[0mreason\u001b[0m \u001b[0;34m=\u001b[0m \u001b[0mself\u001b[0m\u001b[0;34m.\u001b[0m\u001b[0m_read_status\u001b[0m\u001b[0;34m(\u001b[0m\u001b[0;34m)\u001b[0m\u001b[0;34m\u001b[0m\u001b[0;34m\u001b[0m\u001b[0m\n\u001b[0m\u001b[1;32m    308\u001b[0m             \u001b[0;32mif\u001b[0m \u001b[0mstatus\u001b[0m \u001b[0;34m!=\u001b[0m \u001b[0mCONTINUE\u001b[0m\u001b[0;34m:\u001b[0m\u001b[0;34m\u001b[0m\u001b[0;34m\u001b[0m\u001b[0m\n\u001b[1;32m    309\u001b[0m                 \u001b[0;32mbreak\u001b[0m\u001b[0;34m\u001b[0m\u001b[0;34m\u001b[0m\u001b[0m\n",
      "\u001b[0;32m~/anaconda3/envs/thesis/lib/python3.8/http/client.py\u001b[0m in \u001b[0;36m_read_status\u001b[0;34m(self)\u001b[0m\n\u001b[1;32m    266\u001b[0m \u001b[0;34m\u001b[0m\u001b[0m\n\u001b[1;32m    267\u001b[0m     \u001b[0;32mdef\u001b[0m \u001b[0m_read_status\u001b[0m\u001b[0;34m(\u001b[0m\u001b[0mself\u001b[0m\u001b[0;34m)\u001b[0m\u001b[0;34m:\u001b[0m\u001b[0;34m\u001b[0m\u001b[0;34m\u001b[0m\u001b[0m\n\u001b[0;32m--> 268\u001b[0;31m         \u001b[0mline\u001b[0m \u001b[0;34m=\u001b[0m \u001b[0mstr\u001b[0m\u001b[0;34m(\u001b[0m\u001b[0mself\u001b[0m\u001b[0;34m.\u001b[0m\u001b[0mfp\u001b[0m\u001b[0;34m.\u001b[0m\u001b[0mreadline\u001b[0m\u001b[0;34m(\u001b[0m\u001b[0m_MAXLINE\u001b[0m \u001b[0;34m+\u001b[0m \u001b[0;36m1\u001b[0m\u001b[0;34m)\u001b[0m\u001b[0;34m,\u001b[0m \u001b[0;34m\"iso-8859-1\"\u001b[0m\u001b[0;34m)\u001b[0m\u001b[0;34m\u001b[0m\u001b[0;34m\u001b[0m\u001b[0m\n\u001b[0m\u001b[1;32m    269\u001b[0m         \u001b[0;32mif\u001b[0m \u001b[0mlen\u001b[0m\u001b[0;34m(\u001b[0m\u001b[0mline\u001b[0m\u001b[0;34m)\u001b[0m \u001b[0;34m>\u001b[0m \u001b[0m_MAXLINE\u001b[0m\u001b[0;34m:\u001b[0m\u001b[0;34m\u001b[0m\u001b[0;34m\u001b[0m\u001b[0m\n\u001b[1;32m    270\u001b[0m             \u001b[0;32mraise\u001b[0m \u001b[0mLineTooLong\u001b[0m\u001b[0;34m(\u001b[0m\u001b[0;34m\"status line\"\u001b[0m\u001b[0;34m)\u001b[0m\u001b[0;34m\u001b[0m\u001b[0;34m\u001b[0m\u001b[0m\n",
      "\u001b[0;32m~/anaconda3/envs/thesis/lib/python3.8/socket.py\u001b[0m in \u001b[0;36mreadinto\u001b[0;34m(self, b)\u001b[0m\n\u001b[1;32m    667\u001b[0m         \u001b[0;32mwhile\u001b[0m \u001b[0;32mTrue\u001b[0m\u001b[0;34m:\u001b[0m\u001b[0;34m\u001b[0m\u001b[0;34m\u001b[0m\u001b[0m\n\u001b[1;32m    668\u001b[0m             \u001b[0;32mtry\u001b[0m\u001b[0;34m:\u001b[0m\u001b[0;34m\u001b[0m\u001b[0;34m\u001b[0m\u001b[0m\n\u001b[0;32m--> 669\u001b[0;31m                 \u001b[0;32mreturn\u001b[0m \u001b[0mself\u001b[0m\u001b[0;34m.\u001b[0m\u001b[0m_sock\u001b[0m\u001b[0;34m.\u001b[0m\u001b[0mrecv_into\u001b[0m\u001b[0;34m(\u001b[0m\u001b[0mb\u001b[0m\u001b[0;34m)\u001b[0m\u001b[0;34m\u001b[0m\u001b[0;34m\u001b[0m\u001b[0m\n\u001b[0m\u001b[1;32m    670\u001b[0m             \u001b[0;32mexcept\u001b[0m \u001b[0mtimeout\u001b[0m\u001b[0;34m:\u001b[0m\u001b[0;34m\u001b[0m\u001b[0;34m\u001b[0m\u001b[0m\n\u001b[1;32m    671\u001b[0m                 \u001b[0mself\u001b[0m\u001b[0;34m.\u001b[0m\u001b[0m_timeout_occurred\u001b[0m \u001b[0;34m=\u001b[0m \u001b[0;32mTrue\u001b[0m\u001b[0;34m\u001b[0m\u001b[0;34m\u001b[0m\u001b[0m\n",
      "\u001b[0;32m~/anaconda3/envs/thesis/lib/python3.8/ssl.py\u001b[0m in \u001b[0;36mrecv_into\u001b[0;34m(self, buffer, nbytes, flags)\u001b[0m\n\u001b[1;32m   1239\u001b[0m                   \u001b[0;34m\"non-zero flags not allowed in calls to recv_into() on %s\"\u001b[0m \u001b[0;34m%\u001b[0m\u001b[0;34m\u001b[0m\u001b[0;34m\u001b[0m\u001b[0m\n\u001b[1;32m   1240\u001b[0m                   self.__class__)\n\u001b[0;32m-> 1241\u001b[0;31m             \u001b[0;32mreturn\u001b[0m \u001b[0mself\u001b[0m\u001b[0;34m.\u001b[0m\u001b[0mread\u001b[0m\u001b[0;34m(\u001b[0m\u001b[0mnbytes\u001b[0m\u001b[0;34m,\u001b[0m \u001b[0mbuffer\u001b[0m\u001b[0;34m)\u001b[0m\u001b[0;34m\u001b[0m\u001b[0;34m\u001b[0m\u001b[0m\n\u001b[0m\u001b[1;32m   1242\u001b[0m         \u001b[0;32melse\u001b[0m\u001b[0;34m:\u001b[0m\u001b[0;34m\u001b[0m\u001b[0;34m\u001b[0m\u001b[0m\n\u001b[1;32m   1243\u001b[0m             \u001b[0;32mreturn\u001b[0m \u001b[0msuper\u001b[0m\u001b[0;34m(\u001b[0m\u001b[0;34m)\u001b[0m\u001b[0;34m.\u001b[0m\u001b[0mrecv_into\u001b[0m\u001b[0;34m(\u001b[0m\u001b[0mbuffer\u001b[0m\u001b[0;34m,\u001b[0m \u001b[0mnbytes\u001b[0m\u001b[0;34m,\u001b[0m \u001b[0mflags\u001b[0m\u001b[0;34m)\u001b[0m\u001b[0;34m\u001b[0m\u001b[0;34m\u001b[0m\u001b[0m\n",
      "\u001b[0;32m~/anaconda3/envs/thesis/lib/python3.8/ssl.py\u001b[0m in \u001b[0;36mread\u001b[0;34m(self, len, buffer)\u001b[0m\n\u001b[1;32m   1097\u001b[0m         \u001b[0;32mtry\u001b[0m\u001b[0;34m:\u001b[0m\u001b[0;34m\u001b[0m\u001b[0;34m\u001b[0m\u001b[0m\n\u001b[1;32m   1098\u001b[0m             \u001b[0;32mif\u001b[0m \u001b[0mbuffer\u001b[0m \u001b[0;32mis\u001b[0m \u001b[0;32mnot\u001b[0m \u001b[0;32mNone\u001b[0m\u001b[0;34m:\u001b[0m\u001b[0;34m\u001b[0m\u001b[0;34m\u001b[0m\u001b[0m\n\u001b[0;32m-> 1099\u001b[0;31m                 \u001b[0;32mreturn\u001b[0m \u001b[0mself\u001b[0m\u001b[0;34m.\u001b[0m\u001b[0m_sslobj\u001b[0m\u001b[0;34m.\u001b[0m\u001b[0mread\u001b[0m\u001b[0;34m(\u001b[0m\u001b[0mlen\u001b[0m\u001b[0;34m,\u001b[0m \u001b[0mbuffer\u001b[0m\u001b[0;34m)\u001b[0m\u001b[0;34m\u001b[0m\u001b[0;34m\u001b[0m\u001b[0m\n\u001b[0m\u001b[1;32m   1100\u001b[0m             \u001b[0;32melse\u001b[0m\u001b[0;34m:\u001b[0m\u001b[0;34m\u001b[0m\u001b[0;34m\u001b[0m\u001b[0m\n\u001b[1;32m   1101\u001b[0m                 \u001b[0;32mreturn\u001b[0m \u001b[0mself\u001b[0m\u001b[0;34m.\u001b[0m\u001b[0m_sslobj\u001b[0m\u001b[0;34m.\u001b[0m\u001b[0mread\u001b[0m\u001b[0;34m(\u001b[0m\u001b[0mlen\u001b[0m\u001b[0;34m)\u001b[0m\u001b[0;34m\u001b[0m\u001b[0;34m\u001b[0m\u001b[0m\n",
      "\u001b[0;31mKeyboardInterrupt\u001b[0m: "
     ]
    }
   ],
   "source": [
    "progress_bar(0, \"Page\", tot=pages)\n",
    "to_do = list(range(1, pages + 1))\n",
    "count = 0\n",
    "for page in to_do:\n",
    "    try:\n",
    "        r = requests.get(list_video.format(page))\n",
    "        s, l = extraxt_urls(r)\n",
    "        if s:\n",
    "            count += 1            \n",
    "            videos.extend(l)\n",
    "        else:\n",
    "            print(f\"Fail on page {page}, retry later\")\n",
    "            to_do.append(page)\n",
    "    except requests.ConnectionError:\n",
    "        print(f\"connection error on page {page}, retry later\")\n",
    "        to_do.append(page)\n",
    "    progress_bar(count, \"Page\", tot=pages)\n",
    "save_video_file(video_file, videos)"
   ]
  },
  {
   "cell_type": "code",
   "execution_count": 5,
   "metadata": {},
   "outputs": [
    {
     "name": "stdout",
     "output_type": "stream",
     "text": [
      "Videos: 4346\n"
     ]
    }
   ],
   "source": [
    "print(\"Videos:\", len(videos))"
   ]
  },
  {
   "cell_type": "markdown",
   "metadata": {},
   "source": [
    "## Get data"
   ]
  },
  {
   "cell_type": "markdown",
   "metadata": {},
   "source": [
    "Obtain title, description, video id and video url from the video page"
   ]
  },
  {
   "cell_type": "code",
   "execution_count": 8,
   "metadata": {},
   "outputs": [],
   "source": [
    "def get_video_info(r):\n",
    "    \"\"\"Return list [title, description, video url, video id]\"\"\"\n",
    "    status = False\n",
    "    ret_data = []\n",
    "    if r.ok:\n",
    "        html = BeautifulSoup(r.text)\n",
    "        query = html.find(\"script\", attrs=script_query)\n",
    "        if query is not None and len(query.contents) != 0:\n",
    "            #print(\"Query found\")\n",
    "            span = json_extract.search(query.contents[0])            \n",
    "            video_data = json.loads(query.contents[0][span.start(): span.end()])\n",
    "            try:\n",
    "                video_data = video_data[\"__INITIAL_DATA__\"][\"talks\"][0]\n",
    "                title = video_data[\"title\"]\n",
    "                descr = video_data[\"description\"]\n",
    "                id = video_data[\"id\"]\n",
    "                video_url = video_data[\"player_talks\"][0][\"resources\"][\"h264\"]\n",
    "                if video_url is not None:\n",
    "                    video_url = video_url[0][\"file\"]\n",
    "                else:\n",
    "                    video_url = \"\" # on YT, cannot download (against policy)\n",
    "                status = True\n",
    "                ret_data = [title, descr, video_url, id]\n",
    "            except KeyError as err:\n",
    "                print(\"KeyError:\", err.args[0])\n",
    "            except TypeError:\n",
    "                print(\"Invalid query\")                \n",
    "        else:\n",
    "            print(\"Failed to find the query:\", r.url)\n",
    "    #else:\n",
    "        #print(\"Request not ok:\", r.status_code)\n",
    "    return status, ret_data\n",
    "\n",
    "def save_video_data(name, video_data):\n",
    "    with open(name, \"wt\") as f:\n",
    "        json.dump(video_data, f)\n",
    "        \n",
    "def load_video_data(name):\n",
    "    d = {}\n",
    "    if file_exists(name):\n",
    "        with open(name, \"rt\") as f:\n",
    "            d = json.load(f)\n",
    "    return d\n",
    "\n",
    "def check_data(name, data_dict):\n",
    "    if name in data_dict:\n",
    "        d = data_dict[name][0] # HACK\n",
    "        if len(d) >= 4 and d[0] != \"\" and d[1] != \"\" and d[3] != \"\": # title, descr, (video,) id\n",
    "            return True\n",
    "    return False"
   ]
  },
  {
   "cell_type": "code",
   "execution_count": 10,
   "metadata": {},
   "outputs": [
    {
     "name": "stdout",
     "output_type": "stream",
     "text": [
      "Page: [--------------------------------------------------] 0.83% - 36/4346Failed to find the query: https://www.ted.com/talks/gaspard_koenig_do_we_really_own_our_bodies?language=en%0A\n",
      "Page: [||||||||||----------------------------------------] 21.34% - 929/4353Failed to find the query: https://www.ted.com/talks/sarah_montana_why_forgiveness_is_worth_it?language=en%0A\n",
      "Page: [||||||||||||||||||||------------------------------] 40.45% - 1764/4361Failed to find the query: https://www.ted.com/talks/ahmad_m_hasnah_rethinking_education_and_celebrating_the_arabic_language?language=en%0A\n",
      "Page: [|||||||||||||||||||||||||||||||||-----------------] 66.28% - 2901/4377Failed to find the query: https://www.ted.com/talks/james_orsulak_why_we_need_to_move_manufacturing_off_planet?language=en%0A\n",
      "Page: [||||||||||||||||||||||||||||||||||----------------] 68.42% - 2996/4379Failed to find the query: https://www.ted.com/talks/megan_ming_francis_we_need_to_address_the_real_roots_of_racial_violence?language=en%0A\n",
      "Page: [|||||||||||||||||||||||||||||||||||||||||||||||||-] 99.23% - 4368/4402Failed to find the query: https://www.ted.com/talks/marta_peirano_the_surveillance_device_you_carry_around_all_day?language=en%0A\n",
      "Page: [||||||||||||||||||||||||||||||||||||||||||||||||||] 100.00% - 4414/4414\n"
     ]
    }
   ],
   "source": [
    "video_data = load_video_data(f\"{folder}/{json_file}\")\n",
    "count = 0\n",
    "progress_bar(0, \"Page\", tot=len(videos))\n",
    "try:\n",
    "    for video in videos:    \n",
    "        name = make_name(video)\n",
    "        if not check_data(name, video_data):\n",
    "            try:\n",
    "                r = requests.get(video)\n",
    "                if r.status_code == 429:\n",
    "                    time.sleep(5)\n",
    "                s, l = get_video_info(r)\n",
    "                #print(\"Got info \")\n",
    "                if s and len(l) != 0:\n",
    "                    #count += 1\n",
    "                    #print(\"Count\", count)\n",
    "                    video_data[make_name(video)] = [l] # BUG list of list\n",
    "                    #if len(l) == 0:\n",
    "                    #    print(\"No data retrieved\")\n",
    "                    #    videos.append(video)\n",
    "                else:\n",
    "                    videos.append(video)\n",
    "                    #print(\"Failed to get video data\")\n",
    "            except requests.ConnectionError:\n",
    "                print(\"connection error\")\n",
    "                videos.append(video)\n",
    "        count += 1\n",
    "        progress_bar(count, \"Page\", tot=len(videos))\n",
    "finally:\n",
    "    pass\n",
    "#    save_video_data(f\"{folder}/{json_file}\", video_data)"
   ]
  },
  {
   "cell_type": "code",
   "execution_count": 11,
   "metadata": {},
   "outputs": [],
   "source": [
    "save_video_data(f\"{folder}/{json_file}\", video_data)"
   ]
  },
  {
   "cell_type": "markdown",
   "metadata": {},
   "source": [
    "## Get transcrips"
   ]
  },
  {
   "cell_type": "code",
   "execution_count": 26,
   "metadata": {},
   "outputs": [],
   "source": [
    "def get_trans(id, fmt):\n",
    "    #print(id, fmt)\n",
    "    t = \"\"\n",
    "    url = transcript_service.format(id, fmt)\n",
    "    try:\n",
    "        r = requests.get(url)\n",
    "        if r.status_code != 429:\n",
    "            t = r.text\n",
    "    except requests.ConnectionError:\n",
    "        pass\n",
    "    return t\n",
    "\n",
    "def save_trans(name, content):\n",
    "    with open(name, \"wt\") as f:\n",
    "        f.write(content)"
   ]
  },
  {
   "cell_type": "code",
   "execution_count": 28,
   "metadata": {},
   "outputs": [
    {
     "name": "stdout",
     "output_type": "stream",
     "text": [
      "Transcript: [||||||||||||||||||||||||||||||||||||||||||||||||||] 100.00% - 4346/4346\n"
     ]
    }
   ],
   "source": [
    "video_data = load_video_data(f\"{folder}/{json_file}\")\n",
    "count = 0\n",
    "progress_bar(0, \"Transcript\", tot=len(video_data))\n",
    "to_do = list(video_data.items())\n",
    "for v_url, ((v_title, v_descr, v, v_id),) in to_do:\n",
    "    name = f\"{make_name(v_url)}.{fmt}\"\n",
    "    if not file_exists(f\"{folder}/{name}\"):\n",
    "        t = get_trans(v_id, fmt)\n",
    "        if t == \"\": # some error -> retry \n",
    "            to_do.append((v_url, [v_title, v_descr, v, v_id]))\n",
    "        else:\n",
    "            save_trans(f\"{folder}/{name}\", t)\n",
    "    count += 1\n",
    "    progress_bar(count, \"Transcript\", tot=len(to_do))"
   ]
  },
  {
   "cell_type": "markdown",
   "metadata": {},
   "source": [
    "## Get audio"
   ]
  },
  {
   "cell_type": "raw",
   "metadata": {},
   "source": [
    "def save_audio(entry, folder, audio_list): # NOT RUN\n",
    "    \"\"\"Save the audio\"\"\"\n",
    "    url = entry[0] # used for the name\n",
    "    video_url = entry[1][0][2]\n",
    "    if video_url != \"\":\n",
    "        video_url = video_url.split(\"?\")[0] # remove paramters from the url\n",
    "        fmt = video_url.strip()[-3:] # get the format    \n",
    "        if \"youtube\" in video_url:\n",
    "            #print(\"youtube video\")\n",
    "            pass\n",
    "        elif fmt not in [\"mp4\"]:\n",
    "            print(\"Unknown format:\", fmt)\n",
    "        else:  \n",
    "            try:\n",
    "                file_name = make_name(url)\n",
    "                s, d = check_duplicate(file_name, audio_list)\n",
    "                if s:\n",
    "                    print(\"Creating link\")\n",
    "                    subprocess.run([\"ln\", \"-s\", f\"../Amara/{d[0]}/{d[1]}\", f\"/media/usb3/Users/admin/Desktop/Thesis_tmp/{folder}/{file_name}.wav\"])\n",
    "                else:\n",
    "                    if not os.path.isfile(f\"{folder}/{file_name}.wav\"):                \n",
    "                        #r = requests.get(video_url, timeout=60)\n",
    "                        #print(\"Done\")\n",
    "                        if r.ok:\n",
    "                            # run ffmpeg, input from pipe, map only audio, on gpu 0, do not overwrite existing files\n",
    "                            \n",
    "                            cmd = [\"ffmpeg\", \"-i\", \"pipe:\", \"-map\", \"a\", \"-gpu\", \"0\", \"-n\", f\"/media/usb3/Users/admin/Desktop/Thesis_tmp/{folder}/{file_name}.wav\"]\n",
    "                            #proc = subprocess.Popen(cmd, stdin=subprocess.PIPE, stdout=subprocess.PIPE) # output will be ignored\n",
    "                            #proc.communicate(r.content)\n",
    "                        else:\n",
    "                            print(\"Request not ok on:\", entry[0])\n",
    "            except requests.Timeout:\n",
    "                print(\"Timeout\")\n",
    "            except requests.ConnectionError: # e.g. invalid URL\n",
    "                print(\"Connection error on:\", entry[0])\n",
    "            except requests.exceptions.MissingSchema:\n",
    "                pass\n",
    "            \n",
    "def get_amara_audio_list():\n",
    "    root = \"../Amara\"\n",
    "    audio_dict = {i:[] for i in [\"TED\", \"TED-ED\", \"TED-SERIES\", \"TED-Translator\", \"TEDx\"]}\n",
    "    for d in audio_dict:\n",
    "        audio_dict[d] = [i.split(\"/\")[-1] for i in glob.glob(f\"{root}/{d}/*.wav\")]\n",
    "    return audio_dict\n",
    "\n",
    "def check_duplicate(name, audio_dict):\n",
    "    # remove parameters, get actual name, clean, change space symbols\n",
    "    name = name.strip().split(\"?\")[0].split(\"__\")[-1].strip().lower().replace(\"_\", \" \").replace(\"-\", \" \")\n",
    "    for folder in audio_dict:\n",
    "        for audio in audio_dict[folder]:\n",
    "            audio_name = audio.split(\"?\")[0].split(\".wav\")[0]\n",
    "            if audio_name.endswith(\"__\"):\n",
    "                audio_name = audio_name[:-2]\n",
    "            audio_name = audio_name.split(\"__\")[-1].strip().lower().replace(\"_\", \" \").replace(\"-\", \" \")\n",
    "            if audio_name == name:\n",
    "                return True, [folder, audio] # improve this\n",
    "    return False, []"
   ]
  },
  {
   "cell_type": "raw",
   "metadata": {},
   "source": [
    "video_data = load_video_data(f\"{folder}/{json_file}\")\n",
    "count = 0\n",
    "progress_bar(0, \"Audio\", tot=len(video_data))\n",
    "to_do = list(video_data.items())\n",
    "audio_dict = get_amara_audio_list()\n",
    "for entry in to_do:\n",
    "    save_audio(entry, folder, audio_dict)\n",
    "    count += 1\n",
    "    progress_bar(count, \"Transcript\", tot=len(to_do))"
   ]
  },
  {
   "cell_type": "code",
   "execution_count": null,
   "metadata": {},
   "outputs": [],
   "source": [
    "def save_audio(id_, data_dict, talk_id, folder):\n",
    "    \"\"\"\n",
    "    Args:\n",
    "        id_: talk id\n",
    "        data_dict: data_urls.json file\n",
    "        talks_id: dataframe with talk ids. The index is the id\n",
    "        folder: where to save the audio\n",
    "    Returns:\n",
    "        None\n",
    "    \"\"\"\n",
    "    url = talk_id[id_][\"ted\"]\n",
    "    v_url = data_dict[url][0][2].split(\"?\")[0]    \n",
    "    fmt = v_url.strip()[-3:] # get the format    \n",
    "    if \"youtube\" in v_url:\n",
    "        pass\n",
    "    elif fmt not in [\"mp4\"]:\n",
    "        print(\"Unknown format:\", fmt)\n",
    "    else:  \n",
    "        name = make_name(url)+\".wav\"\n",
    "        if not file_exists(f\"{folder}/{name}\"):\n",
    "            #TODO            \n",
    "            r = requests.get(video_url, timeout=60)                        \n",
    "            if r.ok:\n",
    "                # run ffmpeg, input from pipe, map only audio, on gpu 0, do not overwrite existing files\n",
    "                cmd = [\"ffmpeg\", \"-i\", \"pipe:\", \"-map\", \"a\", \"-gpu\", \"0\", \"-n\", f\"{folder}/{file_name}.wav\"]\n",
    "                proc = subprocess.Popen(cmd, stdin=subprocess.PIPE, stdout=subprocess.PIPE) # output will be ignored\n",
    "                proc.communicate(r.content)\n",
    "            else:\n",
    "                print(\"Request not ok on:\", id_)\n",
    "            except requests.Timeout:\n",
    "                print(\"Timeout:\", id_)\n",
    "            except requests.ConnectionError: # e.g. invalid URL\n",
    "                print(\"Connection error on:\", id_)\n",
    "            except requests.exceptions.MissingSchema:\n",
    "                print(\"Missing schema:\", id_)"
   ]
  },
  {
   "cell_type": "markdown",
   "metadata": {},
   "source": [
    "## Get IDs"
   ]
  },
  {
   "cell_type": "markdown",
   "metadata": {},
   "source": [
    "(Already done)"
   ]
  },
  {
   "cell_type": "code",
   "execution_count": 4,
   "metadata": {},
   "outputs": [],
   "source": [
    "id_file = \"talk_id.csv\"\n",
    "ted = \"https://www.ted.com{}\""
   ]
  },
  {
   "cell_type": "code",
   "execution_count": 5,
   "metadata": {},
   "outputs": [],
   "source": [
    "def extract_id(url):\n",
    "    \"\"\"Find the talk id given the url from TED.com\"\"\"        \n",
    "    sc = 429\n",
    "    talk_id = None\n",
    "    status = True\n",
    "    while sc == 429:\n",
    "        r = requests.get(url)\n",
    "        sc = r.status_code\n",
    "        if r.ok:\n",
    "            html = BeautifulSoup(r.text)\n",
    "            query = html.find(\"script\", attrs=script_query)\n",
    "            if query is not None and len(query.contents) != 0:\n",
    "                # print(\"Query found\")\n",
    "                span = json_extract.search(query.contents[0])            \n",
    "                video_data = json.loads(query.contents[0][span.start(): span.end()])\n",
    "                try:\n",
    "                    talk_id = video_data[\"__INITIAL_DATA__\"][\"current_talk\"]                    \n",
    "                except KeyError as err:\n",
    "                    print(\"KeyError:\", err.args[0])\n",
    "                    print(r.url)\n",
    "                    status = False\n",
    "                except TypeError:\n",
    "                    print(\"Invalid query\", r.url)                \n",
    "                    status = False\n",
    "            else:\n",
    "                print(\"Failed to find the query:\", r.url)\n",
    "                status = False\n",
    "        #else:\n",
    "        #    print(\"Request not OK\")\n",
    "        if sc == 429:\n",
    "            time.sleep(5)    \n",
    "    return status, talk_id"
   ]
  },
  {
   "cell_type": "code",
   "execution_count": 6,
   "metadata": {},
   "outputs": [],
   "source": [
    "video_data = {}\n",
    "with open(f\"{folder}/{json_file}\") as f:\n",
    "    video_data = json.load(f)\n",
    "video_id = pd.DataFrame(columns=[\"ted\", \"id\"])\n",
    "if file_exists(id_file):\n",
    "    video_id = pd.read_csv(id_file)\n",
    "    video_id.drop('Unnamed: 0', axis=1, inplace=True)"
   ]
  },
  {
   "cell_type": "code",
   "execution_count": 14,
   "metadata": {},
   "outputs": [
    {
     "name": "stdout",
     "output_type": "stream",
     "text": [
      "ID: [||||||||||||||||||||||||||||||||||||||||||||||||||] 100.00% - 4346/4346\n"
     ]
    }
   ],
   "source": [
    "tot = len(video_data)\n",
    "i = 0\n",
    "progress_bar(i, \"ID\", tot)\n",
    "for url in video_data.keys():\n",
    "    url = name_to_url(url, False)\n",
    "    if url not in video_id.ted.values:\n",
    "        status, id_ = extract_id(url)\n",
    "        if status:\n",
    "            video_id.loc[video_id.shape[0]] = [url, id_]\n",
    "    i += 1\n",
    "    progress_bar(i, \"ID\", tot)"
   ]
  },
  {
   "cell_type": "code",
   "execution_count": 15,
   "metadata": {},
   "outputs": [
    {
     "data": {
      "text/html": [
       "<div>\n",
       "<style scoped>\n",
       "    .dataframe tbody tr th:only-of-type {\n",
       "        vertical-align: middle;\n",
       "    }\n",
       "\n",
       "    .dataframe tbody tr th {\n",
       "        vertical-align: top;\n",
       "    }\n",
       "\n",
       "    .dataframe thead th {\n",
       "        text-align: right;\n",
       "    }\n",
       "</style>\n",
       "<table border=\"1\" class=\"dataframe\">\n",
       "  <thead>\n",
       "    <tr style=\"text-align: right;\">\n",
       "      <th></th>\n",
       "      <th>ted</th>\n",
       "      <th>id</th>\n",
       "    </tr>\n",
       "  </thead>\n",
       "  <tbody>\n",
       "    <tr>\n",
       "      <th>0</th>\n",
       "      <td>https://www.ted.com/talks/marc_kushner_why_the...</td>\n",
       "      <td>2183</td>\n",
       "    </tr>\n",
       "    <tr>\n",
       "      <th>1</th>\n",
       "      <td>https://www.ted.com/talks/kirk_sorensen_thoriu...</td>\n",
       "      <td>1324</td>\n",
       "    </tr>\n",
       "    <tr>\n",
       "      <th>2</th>\n",
       "      <td>https://www.ted.com/talks/jean_francois_bastin...</td>\n",
       "      <td>67748</td>\n",
       "    </tr>\n",
       "    <tr>\n",
       "      <th>3</th>\n",
       "      <td>https://www.ted.com/talks/christien_meindertsm...</td>\n",
       "      <td>960</td>\n",
       "    </tr>\n",
       "    <tr>\n",
       "      <th>4</th>\n",
       "      <td>https://www.ted.com/talks/srdja_popovic_how_to...</td>\n",
       "      <td>1294</td>\n",
       "    </tr>\n",
       "    <tr>\n",
       "      <th>...</th>\n",
       "      <td>...</td>\n",
       "      <td>...</td>\n",
       "    </tr>\n",
       "    <tr>\n",
       "      <th>4341</th>\n",
       "      <td>https://www.ted.com/talks/winnie_harlow_how_i_...</td>\n",
       "      <td>41333</td>\n",
       "    </tr>\n",
       "    <tr>\n",
       "      <th>4342</th>\n",
       "      <td>https://www.ted.com/talks/megan_campisi_and_pe...</td>\n",
       "      <td>24255</td>\n",
       "    </tr>\n",
       "    <tr>\n",
       "      <th>4343</th>\n",
       "      <td>https://www.ted.com/talks/alex_gendler_can_you...</td>\n",
       "      <td>46591</td>\n",
       "    </tr>\n",
       "    <tr>\n",
       "      <th>4344</th>\n",
       "      <td>https://www.ted.com/talks/rachel_kleinfeld_a_p...</td>\n",
       "      <td>55562</td>\n",
       "    </tr>\n",
       "    <tr>\n",
       "      <th>4345</th>\n",
       "      <td>https://www.ted.com/talks/emma_rodero_como_dar...</td>\n",
       "      <td>12729</td>\n",
       "    </tr>\n",
       "  </tbody>\n",
       "</table>\n",
       "<p>4346 rows × 2 columns</p>\n",
       "</div>"
      ],
      "text/plain": [
       "                                                    ted     id\n",
       "0     https://www.ted.com/talks/marc_kushner_why_the...   2183\n",
       "1     https://www.ted.com/talks/kirk_sorensen_thoriu...   1324\n",
       "2     https://www.ted.com/talks/jean_francois_bastin...  67748\n",
       "3     https://www.ted.com/talks/christien_meindertsm...    960\n",
       "4     https://www.ted.com/talks/srdja_popovic_how_to...   1294\n",
       "...                                                 ...    ...\n",
       "4341  https://www.ted.com/talks/winnie_harlow_how_i_...  41333\n",
       "4342  https://www.ted.com/talks/megan_campisi_and_pe...  24255\n",
       "4343  https://www.ted.com/talks/alex_gendler_can_you...  46591\n",
       "4344  https://www.ted.com/talks/rachel_kleinfeld_a_p...  55562\n",
       "4345  https://www.ted.com/talks/emma_rodero_como_dar...  12729\n",
       "\n",
       "[4346 rows x 2 columns]"
      ]
     },
     "execution_count": 15,
     "metadata": {},
     "output_type": "execute_result"
    }
   ],
   "source": [
    "video_id"
   ]
  },
  {
   "cell_type": "code",
   "execution_count": 16,
   "metadata": {},
   "outputs": [],
   "source": [
    "video_id.to_csv(id_file)"
   ]
  },
  {
   "cell_type": "code",
   "execution_count": 7,
   "metadata": {},
   "outputs": [],
   "source": [
    "#import pickle\n",
    "#with open(\"tmp_\"+id_file, \"rb\") as f:\n",
    "#    tmp = pickle.load(f)\n",
    "#video_id = pd.DataFrame(tmp, columns=[\"ted\", \"id\"])"
   ]
  }
 ],
 "metadata": {
  "kernelspec": {
   "display_name": "Python 3",
   "language": "python",
   "name": "python3"
  },
  "language_info": {
   "codemirror_mode": {
    "name": "ipython",
    "version": 3
   },
   "file_extension": ".py",
   "mimetype": "text/x-python",
   "name": "python",
   "nbconvert_exporter": "python",
   "pygments_lexer": "ipython3",
   "version": "3.8.5"
  }
 },
 "nbformat": 4,
 "nbformat_minor": 4
}
